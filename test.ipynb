{
 "cells": [
  {
   "cell_type": "code",
   "execution_count": 2,
   "id": "7c3b403a-7645-4a1d-aa8c-62a07215f426",
   "metadata": {},
   "outputs": [],
   "source": [
    "data1 = [(7369, \"SMITH\", \"CLERK\", 7902, \"17-DEC-2005\", 800, None, 20),\n",
    "        (7499, \"ALLEN\", \"SALESMAN\",7698,\"20-FEB-2006\",1600,300,  30),\n",
    "        (7521, \"WARD\", \"SALESMAN\", 7698,\"22-FEB-2006\",1250,500,  30),\n",
    "        (7566, \"JONES\", \"MANAGER\", 7839, \"02-APR-2006\",2975,None,20),\n",
    "        (7654, \"MARTIN\", \"SALESMAN\", 7698, \"28-SEP-2006\",1250,1400,30),\n",
    "        (7698, \"BLAKE\", \"MANAGER\", 7839, \"01-MAY-2006\", 2850, None,30),\n",
    "        (7782, \"CLARK\", \"MANAGER\", 7839, \"09-JUN-2006\", 2450, None, 10),\n",
    "        (7788, \"SCOTT\", \"ANALYST\", 7566, \"09-DEC-2007\", 3000, None, 20),\n",
    "        (7839, \"KING\", \"PRESIDENT\",None, \"17-NOV-2006\", 5000, None, 10),\n",
    "        (7844, \"Turner\", \"SALESMAN\",7698, \"08-SEP-2006\", 1500, 0,  30),\n",
    "        (7876, \"ADAMS\", \"CLERK\",   7788,  \"12-JAN-2008\", 1100, None, 20),\n",
    "        (7900, \"JAMES\",  \"CLERK\",  7698,  \"03-DEC-2006\", 950, None, 30),\n",
    "        (7902, \"FORD\",  \"ANALYST\", 7566,  \"03-DEC-2006\", 3000, None, 20),\n",
    "        (7934, \"MILLER\", \"CLERK\",  7782,  \"23-JAN-2007\", 1300, None, 10)\n",
    "       ]\n",
    "schema1 = [\"empno\",\"ename\",\"job\",\"mgr\",\"hiredate\",\"sal\",\"comm\",\"deptno\"]\n",
    "        "
   ]
  },
  {
   "cell_type": "code",
   "execution_count": 3,
   "id": "8713b099-036a-45f8-b034-2e79ab06f840",
   "metadata": {},
   "outputs": [],
   "source": [
    "data2 = [(10, \"ACCOUNTING\", \"NEW YORK\"),\n",
    "         (20, \"RESEARCH\", \"DALLAS\"),\n",
    "         (30, \"SALES\",    \"CHICAGO\"),\n",
    "         (40, \"OPERATIONS\", \"BOSTON\") ]\n",
    "schema2 = [\"deptno\", \"dname\", \"loc\"]"
   ]
  },
  {
   "cell_type": "code",
   "execution_count": 25,
   "id": "1819b70f-6a32-47b0-8610-fdf7849c7e46",
   "metadata": {},
   "outputs": [],
   "source": [
    "from pyspark.sql import SparkSession\n",
    "from pyspark.sql.functions import *\n",
    "spark = SparkSession.builder.getOrCreate() \n",
    "emp_df=spark.createDataFrame(data = data1, schema = schema1) \n",
    "dept_df=spark.createDataFrame(data = data2, schema = schema2)"
   ]
  },
  {
   "cell_type": "code",
   "execution_count": 7,
   "id": "8f771397-f6da-47a2-83dc-308bd513a5c8",
   "metadata": {},
   "outputs": [],
   "source": [
    "emp_df.createOrReplaceTempView('emp')\n",
    "dept_df.createOrReplaceTempView('dept')"
   ]
  },
  {
   "cell_type": "code",
   "execution_count": 9,
   "id": "980ca6e3-ecb7-45af-9b1f-d361bd277644",
   "metadata": {},
   "outputs": [
    {
     "name": "stdout",
     "output_type": "stream",
     "text": [
      "+------+----------+--------+\n",
      "|deptno|     dname|     loc|\n",
      "+------+----------+--------+\n",
      "|    10|ACCOUNTING|NEW YORK|\n",
      "|    20|  RESEARCH|  DALLAS|\n",
      "|    30|     SALES| CHICAGO|\n",
      "|    40|OPERATIONS|  BOSTON|\n",
      "+------+----------+--------+\n",
      "\n"
     ]
    }
   ],
   "source": [
    "spark.sql(\"select * from dept\").show()"
   ]
  },
  {
   "cell_type": "code",
   "execution_count": 10,
   "id": "2e9f6075-33fb-420a-ae23-78d7d6a8a237",
   "metadata": {},
   "outputs": [],
   "source": [
    "lst = [row[0] for row in emp_df.select('deptno').collect()] "
   ]
  },
  {
   "cell_type": "code",
   "execution_count": 11,
   "id": "662d38af-ab5d-4544-8a69-60354dde0e0c",
   "metadata": {},
   "outputs": [
    {
     "data": {
      "text/plain": [
       "[20, 30, 30, 20, 30, 30, 10, 20, 10, 30, 20, 30, 20, 10]"
      ]
     },
     "execution_count": 11,
     "metadata": {},
     "output_type": "execute_result"
    }
   ],
   "source": [
    "lst"
   ]
  },
  {
   "cell_type": "code",
   "execution_count": 13,
   "id": "ca48b323-a862-46e2-9c2e-d34e08faf4a9",
   "metadata": {},
   "outputs": [
    {
     "name": "stdout",
     "output_type": "stream",
     "text": [
      "+------+\n",
      "|deptno|\n",
      "+------+\n",
      "|    40|\n",
      "+------+\n",
      "\n"
     ]
    }
   ],
   "source": [
    "dept_df.select('deptno').where(~dept_df.deptno.isin(lst)).show()"
   ]
  },
  {
   "cell_type": "code",
   "execution_count": 14,
   "id": "4164295e-379c-4f1c-b3f7-85e78d61da15",
   "metadata": {},
   "outputs": [
    {
     "name": "stdout",
     "output_type": "stream",
     "text": [
      "+------+----------+------+\n",
      "|deptno|     dname|   loc|\n",
      "+------+----------+------+\n",
      "|    40|OPERATIONS|BOSTON|\n",
      "+------+----------+------+\n",
      "\n"
     ]
    }
   ],
   "source": [
    "dept_df.select('*').where(~dept_df.deptno.isin(lst)).show()"
   ]
  },
  {
   "cell_type": "code",
   "execution_count": 12,
   "id": "79b274db-f0e7-4dda-b285-5b1ad975dbbb",
   "metadata": {},
   "outputs": [
    {
     "name": "stdout",
     "output_type": "stream",
     "text": [
      "+------+----------+--------+------+\n",
      "|deptno|     dname|     loc|deptno|\n",
      "+------+----------+--------+------+\n",
      "|    10|ACCOUNTING|NEW YORK|    10|\n",
      "|    10|ACCOUNTING|NEW YORK|    10|\n",
      "|    10|ACCOUNTING|NEW YORK|    10|\n",
      "|    20|  RESEARCH|  DALLAS|    20|\n",
      "|    20|  RESEARCH|  DALLAS|    20|\n",
      "|    20|  RESEARCH|  DALLAS|    20|\n",
      "|    20|  RESEARCH|  DALLAS|    20|\n",
      "|    20|  RESEARCH|  DALLAS|    20|\n",
      "|    30|     SALES| CHICAGO|    30|\n",
      "|    30|     SALES| CHICAGO|    30|\n",
      "|    30|     SALES| CHICAGO|    30|\n",
      "|    30|     SALES| CHICAGO|    30|\n",
      "|    30|     SALES| CHICAGO|    30|\n",
      "|    30|     SALES| CHICAGO|    30|\n",
      "|    40|OPERATIONS|  BOSTON|  NULL|\n",
      "+------+----------+--------+------+\n",
      "\n"
     ]
    }
   ],
   "source": [
    "spark.sql('''select d.*, e.deptno \n",
    "              from dept d left outer join emp e\n",
    "              on (d.deptno = e.deptno) ''').show()\n",
    "              "
   ]
  },
  {
   "cell_type": "code",
   "execution_count": 28,
   "id": "dcbd74eb-4419-42ba-8046-3ec3b887ab2f",
   "metadata": {},
   "outputs": [],
   "source": [
    "df = dept_df.join(emp_df, dept_df.deptno==emp_df.deptno, \"leftouter\").select(dept_df.dname,dept_df.loc,emp_df.deptno)"
   ]
  },
  {
   "cell_type": "code",
   "execution_count": 31,
   "id": "c8574745-dc61-4983-89a1-e31ca033aac9",
   "metadata": {},
   "outputs": [
    {
     "name": "stdout",
     "output_type": "stream",
     "text": [
      "+----------+--------+------+\n",
      "|     dname|     loc|deptno|\n",
      "+----------+--------+------+\n",
      "|ACCOUNTING|NEW YORK|    10|\n",
      "|ACCOUNTING|NEW YORK|    10|\n",
      "|ACCOUNTING|NEW YORK|    10|\n",
      "|  RESEARCH|  DALLAS|    20|\n",
      "|  RESEARCH|  DALLAS|    20|\n",
      "|  RESEARCH|  DALLAS|    20|\n",
      "|  RESEARCH|  DALLAS|    20|\n",
      "|  RESEARCH|  DALLAS|    20|\n",
      "|     SALES| CHICAGO|    30|\n",
      "|     SALES| CHICAGO|    30|\n",
      "|     SALES| CHICAGO|    30|\n",
      "|     SALES| CHICAGO|    30|\n",
      "|     SALES| CHICAGO|    30|\n",
      "|     SALES| CHICAGO|    30|\n",
      "|OPERATIONS|  BOSTON|  NULL|\n",
      "+----------+--------+------+\n",
      "\n",
      "+----------+------+------+\n",
      "|     dname|   loc|deptno|\n",
      "+----------+------+------+\n",
      "|OPERATIONS|BOSTON|  NULL|\n",
      "+----------+------+------+\n",
      "\n"
     ]
    }
   ],
   "source": [
    "df.show()\n",
    "df.filter(\"deptno is NULL\").show()"
   ]
  },
  {
   "cell_type": "code",
   "execution_count": null,
   "id": "06203cda-67e6-493c-9fef-e611ae362d63",
   "metadata": {},
   "outputs": [],
   "source": []
  }
 ],
 "metadata": {
  "kernelspec": {
   "display_name": "Python 3 (ipykernel)",
   "language": "python",
   "name": "python3"
  },
  "language_info": {
   "codemirror_mode": {
    "name": "ipython",
    "version": 3
   },
   "file_extension": ".py",
   "mimetype": "text/x-python",
   "name": "python",
   "nbconvert_exporter": "python",
   "pygments_lexer": "ipython3",
   "version": "3.11.8"
  }
 },
 "nbformat": 4,
 "nbformat_minor": 5
}
