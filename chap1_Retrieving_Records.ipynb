{
 "cells": [
  {
   "cell_type": "code",
   "execution_count": 40,
   "id": "c84eee01-1651-4907-b095-408529635851",
   "metadata": {},
   "outputs": [],
   "source": [
    "data1 = [(7369, \"SMITH\", \"CLERK\", 7902, \"17-DEC-2005\", 800, None, 20),\n",
    "        (7499, \"ALLEN\", \"SALESMAN\",7698,\"20-FEB-2006\",1600,300,  30),\n",
    "        (7521, \"WARD\", \"SALESMAN\", 7698,\"22-FEB-2006\",1250,500,  30),\n",
    "        (7566, \"JONES\", \"MANAGER\", 7839, \"02-APR-2006\",2975,None,20),\n",
    "        (7654, \"MARTIN\", \"SALESMAN\", 7698, \"28-SEP-2006\",1250,1400,30),\n",
    "        (7698, \"BLAKE\", \"MANAGER\", 7839, \"01-MAY-2006\", 2850, None,30),\n",
    "        (7782, \"CLARK\", \"MANAGER\", 7839, \"09-JUN-2006\", 2450, None, 10),\n",
    "        (7788, \"SCOTT\", \"ANALYST\", 7566, \"09-DEC-2007\", 3000, None, 20),\n",
    "        (7839, \"KING\", \"PRESIDENT\",None, \"17-NOV-2006\", 5000, None, 10),\n",
    "        (7844, \"Turner\", \"SALESMAN\",7698, \"08-SEP-2006\", 1500, 0,  30),\n",
    "        (7876, \"ADAMS\", \"CLERK\",   7788,  \"12-JAN-2008\", 1100, None, 20),\n",
    "        (7900, \"JAMES\",  \"CLERK\",  7698,  \"03-DEC-2006\", 950, None, 30),\n",
    "        (7902, \"FORD\",  \"ANALYST\", 7566,  \"03-DEC-2006\", 3000, None, 20),\n",
    "        (7934, \"MILLER\", \"CLERK\",  7782,  \"23-JAN-2007\", 1300, None, 10)\n",
    "       ]\n",
    "schema1 = [\"empno\",\"ename\",\"job\",\"mgr\",\"hiredate\",\"sal\",\"comm\",\"deptno\"]\n",
    "        "
   ]
  },
  {
   "cell_type": "code",
   "execution_count": 41,
   "id": "7b5f2736-901a-4c5e-a846-060deaede56b",
   "metadata": {},
   "outputs": [],
   "source": [
    "from pyspark.sql import SparkSession \n",
    "from pyspark.sql.functions import *\n",
    "spark = SparkSession.builder.getOrCreate()\n",
    "emp_df = spark.createDataFrame(data1,schema1)"
   ]
  },
  {
   "cell_type": "code",
   "execution_count": 43,
   "id": "98a03950-b9a0-4a8c-af13-721f70f89fc6",
   "metadata": {},
   "outputs": [],
   "source": [
    "#df.show()\n",
    "emp_df.createOrReplaceTempView('emp')"
   ]
  },
  {
   "cell_type": "code",
   "execution_count": 44,
   "id": "08885e51-fae1-45d7-bdfc-35fb7400f80e",
   "metadata": {},
   "outputs": [],
   "source": [
    "data2 = [(10, \"ACCOUNTING\", \"NEW YORK\"),\n",
    "         (20, \"RESEARCH\", \"DALLAS\"),\n",
    "         (30, \"SALES\",    \"CHICAGO\"),\n",
    "         (40, \"OPERATIONS\", \"BOSTON\") ]\n",
    "schema2 = [\"deptno\", \"dname\", \"loc\"]"
   ]
  },
  {
   "cell_type": "code",
   "execution_count": 21,
   "id": "f2ac6c61-68d4-41cf-9f9a-1ebe4735edc7",
   "metadata": {},
   "outputs": [],
   "source": [
    "dept_df = spark.createDataFrame(data = data2, schema = schema2) "
   ]
  },
  {
   "cell_type": "code",
   "execution_count": 23,
   "id": "ad6fb9d5-16a5-41f1-b9eb-88c1eed0919d",
   "metadata": {},
   "outputs": [],
   "source": [
    "#df2.show()\n",
    "emp_df.createOrReplaceTempView('dept')"
   ]
  },
  {
   "cell_type": "code",
   "execution_count": 24,
   "id": "bcca0b1e-2b72-46f4-84f2-a90d1e49c382",
   "metadata": {},
   "outputs": [
    {
     "name": "stdout",
     "output_type": "stream",
     "text": [
      "+-----+------+---------+----+-----------+----+----+------+\n",
      "|empno| ename|      job| mgr|   hiredate| sal|comm|deptno|\n",
      "+-----+------+---------+----+-----------+----+----+------+\n",
      "| 7369| SMITH|    CLERK|7902|17-DEC-2005| 800|NULL|    20|\n",
      "| 7499| ALLEN| SALESMAN|7698|20-FEB-2006|1600| 300|    30|\n",
      "| 7521|  WARD| SALESMAN|7698|22-FEB-2006|1250| 500|    30|\n",
      "| 7566| JONES|  MANAGER|7839|02-APR-2006|2975|NULL|    20|\n",
      "| 7654|MARTIN| SALESMAN|7698|28-SEP-2006|1250|1400|    30|\n",
      "| 7698| BLAKE|  MANAGER|7839|01-MAY-2006|2850|NULL|    30|\n",
      "| 7782| CLARK|  MANAGER|7839|09-JUN-2006|2450|NULL|    10|\n",
      "| 7788| SCOTT|  ANALYST|7566|09-DEC-2007|3000|NULL|    20|\n",
      "| 7839|  KING|PRESIDENT|NULL|17-NOV-2006|5000|NULL|    10|\n",
      "| 7844|Turner| SALESMAN|7698|08-SEP-2006|1500|   0|    30|\n",
      "| 7876| ADAMS|    CLERK|7788|12-JAN-2008|1100|NULL|    20|\n",
      "| 7900| JAMES|    CLERK|7698|03-DEC-2006| 950|NULL|    30|\n",
      "| 7902|  FORD|  ANALYST|7566|03-DEC-2006|3000|NULL|    20|\n",
      "| 7934|MILLER|    CLERK|7782|23-JAN-2007|1300|NULL|    10|\n",
      "+-----+------+---------+----+-----------+----+----+------+\n",
      "\n"
     ]
    }
   ],
   "source": [
    "spark.sql('''select * from dept''').show()"
   ]
  },
  {
   "cell_type": "markdown",
   "id": "d43ff46a-43d7-4e4c-ae0f-590481b54561",
   "metadata": {
    "jp-MarkdownHeadingCollapsed": true
   },
   "source": [
    "# Retrieving All Rows and Columns from a Table"
   ]
  },
  {
   "cell_type": "markdown",
   "id": "d834e3c8-8a6b-47e7-a352-bea7f3165a3e",
   "metadata": {},
   "source": [
    "### %SQL"
   ]
  },
  {
   "cell_type": "code",
   "execution_count": 14,
   "id": "73c5b492-7cc0-454b-8c5b-3d693065efbd",
   "metadata": {},
   "outputs": [
    {
     "name": "stdout",
     "output_type": "stream",
     "text": [
      "+------+----------+--------+\n",
      "|deptno|     dname|     loc|\n",
      "+------+----------+--------+\n",
      "|    10|ACCOUNTING|NEW YORK|\n",
      "|    20|  RESEARCH|  DALLAS|\n",
      "|    30|     SALES| CHICAGO|\n",
      "|    40|OPERATIONS|  BOSTON|\n",
      "+------+----------+--------+\n",
      "\n"
     ]
    }
   ],
   "source": [
    "spark.sql('''select * from dept''').show()"
   ]
  },
  {
   "cell_type": "code",
   "execution_count": 15,
   "id": "b7300f85-7694-4d64-9795-1b6d86a7cf6b",
   "metadata": {},
   "outputs": [
    {
     "name": "stdout",
     "output_type": "stream",
     "text": [
      "+-----+------+---------+----+-----------+----+----+------+\n",
      "|empno| ename|      job| mgr|   hiredate| sal|comm|deptno|\n",
      "+-----+------+---------+----+-----------+----+----+------+\n",
      "| 7369| SMITH|    CLERK|7902|17-DEC-2005| 800|NULL|    20|\n",
      "| 7499| ALLEN| SALESMAN|7698|20-FEB-2006|1600| 300|    30|\n",
      "| 7521|  WARD| SALESMAN|7698|22-FEB-2006|1250| 500|    30|\n",
      "| 7566| JONES|  MANAGER|7839|02-APR-2006|2975|NULL|    20|\n",
      "| 7654|MARTIN| SALESMAN|7698|28-SEP-2006|1250|1400|    30|\n",
      "| 7698| BLAKE|  MANAGER|7839|01-MAY-2006|2850|NULL|    30|\n",
      "| 7782| CLARK|  MANAGER|7839|09-JUN-2006|2450|NULL|    10|\n",
      "| 7788| SCOTT|  ANALYST|7566|09-DEC-2007|3000|NULL|    20|\n",
      "| 7839|  KING|PRESIDENT|NULL|17-NOV-2006|5000|NULL|    10|\n",
      "| 7844|Turner| SALESMAN|7698|08-SEP-2006|1500|   0|    30|\n",
      "| 7876| ADAMS|    CLERK|7788|12-JAN-2008|1100|NULL|    20|\n",
      "| 7900| JAMES|    CLERK|7698|03-DEC-2006| 950|NULL|    30|\n",
      "| 7902|  FORD|  ANALYST|7566|03-DEC-2006|3000|NULL|    20|\n",
      "| 7934|MILLER|    CLERK|7782|23-JAN-2007|1300|NULL|    10|\n",
      "+-----+------+---------+----+-----------+----+----+------+\n",
      "\n"
     ]
    }
   ],
   "source": [
    "spark.sql('''select * from emp''').show()"
   ]
  },
  {
   "cell_type": "markdown",
   "id": "cfce591a-0bf9-4380-8f30-10203f9805e6",
   "metadata": {},
   "source": [
    "### %pyspark"
   ]
  },
  {
   "cell_type": "code",
   "execution_count": 25,
   "id": "e51a9c9a-548d-42f6-8027-6d3e7b997df1",
   "metadata": {},
   "outputs": [
    {
     "name": "stdout",
     "output_type": "stream",
     "text": [
      "+-----+------+---------+----+-----------+----+----+------+\n",
      "|empno| ename|      job| mgr|   hiredate| sal|comm|deptno|\n",
      "+-----+------+---------+----+-----------+----+----+------+\n",
      "| 7369| SMITH|    CLERK|7902|17-DEC-2005| 800|NULL|    20|\n",
      "| 7499| ALLEN| SALESMAN|7698|20-FEB-2006|1600| 300|    30|\n",
      "| 7521|  WARD| SALESMAN|7698|22-FEB-2006|1250| 500|    30|\n",
      "| 7566| JONES|  MANAGER|7839|02-APR-2006|2975|NULL|    20|\n",
      "| 7654|MARTIN| SALESMAN|7698|28-SEP-2006|1250|1400|    30|\n",
      "| 7698| BLAKE|  MANAGER|7839|01-MAY-2006|2850|NULL|    30|\n",
      "| 7782| CLARK|  MANAGER|7839|09-JUN-2006|2450|NULL|    10|\n",
      "| 7788| SCOTT|  ANALYST|7566|09-DEC-2007|3000|NULL|    20|\n",
      "| 7839|  KING|PRESIDENT|NULL|17-NOV-2006|5000|NULL|    10|\n",
      "| 7844|Turner| SALESMAN|7698|08-SEP-2006|1500|   0|    30|\n",
      "| 7876| ADAMS|    CLERK|7788|12-JAN-2008|1100|NULL|    20|\n",
      "| 7900| JAMES|    CLERK|7698|03-DEC-2006| 950|NULL|    30|\n",
      "| 7902|  FORD|  ANALYST|7566|03-DEC-2006|3000|NULL|    20|\n",
      "| 7934|MILLER|    CLERK|7782|23-JAN-2007|1300|NULL|    10|\n",
      "+-----+------+---------+----+-----------+----+----+------+\n",
      "\n"
     ]
    }
   ],
   "source": [
    "emp_df.show()"
   ]
  },
  {
   "cell_type": "code",
   "execution_count": 21,
   "id": "b3c4dce9-4e54-472c-8f9d-4160f3b40e26",
   "metadata": {},
   "outputs": [
    {
     "name": "stdout",
     "output_type": "stream",
     "text": [
      "+------+----------+--------+\n",
      "|deptno|     dname|     loc|\n",
      "+------+----------+--------+\n",
      "|    10|ACCOUNTING|NEW YORK|\n",
      "|    20|  RESEARCH|  DALLAS|\n",
      "|    30|     SALES| CHICAGO|\n",
      "|    40|OPERATIONS|  BOSTON|\n",
      "+------+----------+--------+\n",
      "\n"
     ]
    }
   ],
   "source": [
    "dept_df.show()"
   ]
  },
  {
   "cell_type": "markdown",
   "id": "153e7d99-6213-4b44-aca4-71c097dab2aa",
   "metadata": {},
   "source": [
    "# Retrieving a subset of rows from a table"
   ]
  },
  {
   "cell_type": "code",
   "execution_count": 23,
   "id": "9a06d0ba-9ae7-4622-8202-5c1a59340a49",
   "metadata": {},
   "outputs": [
    {
     "name": "stdout",
     "output_type": "stream",
     "text": [
      "+-----+------+---------+----+-----------+----+----+------+\n",
      "|empno| ename|      job| mgr|   hiredate| sal|comm|deptno|\n",
      "+-----+------+---------+----+-----------+----+----+------+\n",
      "| 7782| CLARK|  MANAGER|7839|09-JUN-2006|2450|NULL|    10|\n",
      "| 7839|  KING|PRESIDENT|NULL|17-NOV-2006|5000|NULL|    10|\n",
      "| 7934|MILLER|    CLERK|7782|23-JAN-2007|1300|NULL|    10|\n",
      "+-----+------+---------+----+-----------+----+----+------+\n",
      "\n"
     ]
    }
   ],
   "source": [
    "spark.sql('''select * from emp\n",
    "          where deptno = 10\n",
    "          ''').show()"
   ]
  },
  {
   "cell_type": "markdown",
   "id": "1f14b6f2-a6e7-4c6e-92f9-aebeedfe6220",
   "metadata": {},
   "source": [
    "# Finding Rows that satisfy multiple conditions"
   ]
  },
  {
   "cell_type": "markdown",
   "id": "081ed607-a18a-4e78-ae60-f2fa425ed49f",
   "metadata": {},
   "source": [
    "### %sql"
   ]
  },
  {
   "cell_type": "code",
   "execution_count": 14,
   "id": "670a4afe-3531-4b7f-8811-59fd48eac44e",
   "metadata": {},
   "outputs": [
    {
     "name": "stdout",
     "output_type": "stream",
     "text": [
      "+-----+------+---------+----+-----------+----+----+------+\n",
      "|empno| ename|      job| mgr|   hiredate| sal|comm|deptno|\n",
      "+-----+------+---------+----+-----------+----+----+------+\n",
      "| 7369| SMITH|    CLERK|7902|17-DEC-2005| 800|NULL|    20|\n",
      "| 7499| ALLEN| SALESMAN|7698|20-FEB-2006|1600| 300|    30|\n",
      "| 7521|  WARD| SALESMAN|7698|22-FEB-2006|1250| 500|    30|\n",
      "| 7654|MARTIN| SALESMAN|7698|28-SEP-2006|1250|1400|    30|\n",
      "| 7782| CLARK|  MANAGER|7839|09-JUN-2006|2450|NULL|    10|\n",
      "| 7839|  KING|PRESIDENT|NULL|17-NOV-2006|5000|NULL|    10|\n",
      "| 7844|Turner| SALESMAN|7698|08-SEP-2006|1500|   0|    30|\n",
      "| 7876| ADAMS|    CLERK|7788|12-JAN-2008|1100|NULL|    20|\n",
      "| 7934|MILLER|    CLERK|7782|23-JAN-2007|1300|NULL|    10|\n",
      "+-----+------+---------+----+-----------+----+----+------+\n",
      "\n"
     ]
    }
   ],
   "source": [
    "spark.sql('''select *\n",
    "          from emp\n",
    "          where deptno = 10\n",
    "          or comm is not null\n",
    "          or sal <= 2000 and deptno = 20\n",
    "          ''').show()"
   ]
  },
  {
   "cell_type": "markdown",
   "id": "4e7e37ac-4b0a-454f-9b84-a6da96ca0ab3",
   "metadata": {},
   "source": [
    "### %pyspark"
   ]
  },
  {
   "cell_type": "code",
   "execution_count": 34,
   "id": "7e2367af-56d9-4737-b868-804aa20aa2e5",
   "metadata": {
    "scrolled": true
   },
   "outputs": [
    {
     "name": "stdout",
     "output_type": "stream",
     "text": [
      "+-----+------+---------+----+-----------+----+----+------+\n",
      "|empno| ename|      job| mgr|   hiredate| sal|comm|deptno|\n",
      "+-----+------+---------+----+-----------+----+----+------+\n",
      "| 7369| SMITH|    CLERK|7902|17-DEC-2005| 800|NULL|    20|\n",
      "| 7499| ALLEN| SALESMAN|7698|20-FEB-2006|1600| 300|    30|\n",
      "| 7521|  WARD| SALESMAN|7698|22-FEB-2006|1250| 500|    30|\n",
      "| 7654|MARTIN| SALESMAN|7698|28-SEP-2006|1250|1400|    30|\n",
      "| 7782| CLARK|  MANAGER|7839|09-JUN-2006|2450|NULL|    10|\n",
      "| 7839|  KING|PRESIDENT|NULL|17-NOV-2006|5000|NULL|    10|\n",
      "| 7844|Turner| SALESMAN|7698|08-SEP-2006|1500|   0|    30|\n",
      "| 7876| ADAMS|    CLERK|7788|12-JAN-2008|1100|NULL|    20|\n",
      "| 7934|MILLER|    CLERK|7782|23-JAN-2007|1300|NULL|    10|\n",
      "+-----+------+---------+----+-----------+----+----+------+\n",
      "\n"
     ]
    }
   ],
   "source": [
    "#df1.filter((df1.deptno == 10)| (\"comm is not NULL\")).show()\n",
    "#cond1 = (emp_df.comm.isNotNull()) #(\"comm is not NULL\")\n",
    "#cond2 = (emp_df.deptno == 10)\n",
    "cond1 = expr(\"comm is NOT NULL\")\n",
    "cond2 = expr(\"deptno = 10\")\n",
    "emp_df.filter(cond1|cond2 | (emp_df.sal<=2000) & (emp_df.deptno==20)).show() \n",
    "\n"
   ]
  },
  {
   "cell_type": "code",
   "execution_count": 32,
   "id": "0098ed90-d27f-4ea3-bf81-9e1f5a63f808",
   "metadata": {},
   "outputs": [],
   "source": []
  },
  {
   "cell_type": "code",
   "execution_count": 57,
   "id": "a2ad7fb6-649d-401c-a321-4e37ce9402e1",
   "metadata": {},
   "outputs": [
    {
     "name": "stdout",
     "output_type": "stream",
     "text": [
      "+-----+-----+-----+----+-----------+----+----+------+\n",
      "|empno|ename|  job| mgr|   hiredate| sal|comm|deptno|\n",
      "+-----+-----+-----+----+-----------+----+----+------+\n",
      "| 7369|SMITH|CLERK|7902|17-DEC-2005| 800|NULL|    20|\n",
      "| 7876|ADAMS|CLERK|7788|12-JAN-2008|1100|NULL|    20|\n",
      "+-----+-----+-----+----+-----------+----+----+------+\n",
      "\n"
     ]
    }
   ],
   "source": [
    "df1.filter((df1.sal<=2000) & (df1.deptno==20)).show() "
   ]
  },
  {
   "cell_type": "markdown",
   "id": "d4cd51f2-28da-4c27-ae08-8df02772ca1c",
   "metadata": {},
   "source": [
    "# Retrieving a subset of columns "
   ]
  },
  {
   "cell_type": "markdown",
   "id": "3190e93f-ab4f-4f59-9b8e-9a1cf2638b15",
   "metadata": {},
   "source": [
    "### %sql"
   ]
  },
  {
   "cell_type": "code",
   "execution_count": 64,
   "id": "26c5e934-0346-4106-8cef-3dbbdd4cf091",
   "metadata": {
    "scrolled": true
   },
   "outputs": [
    {
     "name": "stdout",
     "output_type": "stream",
     "text": [
      "+------+------+----+\n",
      "| ename|deptno| sal|\n",
      "+------+------+----+\n",
      "| SMITH|    20| 800|\n",
      "| ALLEN|    30|1600|\n",
      "|  WARD|    30|1250|\n",
      "| JONES|    20|2975|\n",
      "|MARTIN|    30|1250|\n",
      "| BLAKE|    30|2850|\n",
      "| CLARK|    10|2450|\n",
      "| SCOTT|    20|3000|\n",
      "|  KING|    10|5000|\n",
      "|Turner|    30|1500|\n",
      "| ADAMS|    20|1100|\n",
      "| JAMES|    30| 950|\n",
      "|  FORD|    20|3000|\n",
      "|MILLER|    10|1300|\n",
      "+------+------+----+\n",
      "\n"
     ]
    }
   ],
   "source": [
    "spark.sql('''select ename, deptno, sal from emp''').show()"
   ]
  },
  {
   "cell_type": "code",
   "execution_count": 35,
   "id": "604f02f6-56e2-42e0-aa68-4e7c4cb6baf6",
   "metadata": {},
   "outputs": [
    {
     "name": "stdout",
     "output_type": "stream",
     "text": [
      "+------+------+----+\n",
      "| ename|deptno| sal|\n",
      "+------+------+----+\n",
      "| SMITH|    20| 800|\n",
      "| ALLEN|    30|1600|\n",
      "|  WARD|    30|1250|\n",
      "| JONES|    20|2975|\n",
      "|MARTIN|    30|1250|\n",
      "| BLAKE|    30|2850|\n",
      "| CLARK|    10|2450|\n",
      "| SCOTT|    20|3000|\n",
      "|  KING|    10|5000|\n",
      "|Turner|    30|1500|\n",
      "| ADAMS|    20|1100|\n",
      "| JAMES|    30| 950|\n",
      "|  FORD|    20|3000|\n",
      "|MILLER|    10|1300|\n",
      "+------+------+----+\n",
      "\n"
     ]
    }
   ],
   "source": [
    "#emp_df.select('ename','deptno','sal').show() \n",
    "#emp_df.select(emp_df.ename,emp_df.deptno,emp_df.sal).show()"
   ]
  },
  {
   "cell_type": "markdown",
   "id": "722fb9d8-0271-4208-8d9a-b4351900e1aa",
   "metadata": {},
   "source": [
    "# Providing Meaningful Names for Columns"
   ]
  },
  {
   "cell_type": "code",
   "execution_count": 70,
   "id": "33a68e4c-ef6f-4ab5-9b5e-545e0ffd4d76",
   "metadata": {},
   "outputs": [
    {
     "name": "stdout",
     "output_type": "stream",
     "text": [
      "+------+----------+\n",
      "|salary|commission|\n",
      "+------+----------+\n",
      "|   800|      NULL|\n",
      "|  1600|       300|\n",
      "|  1250|       500|\n",
      "|  2975|      NULL|\n",
      "|  1250|      1400|\n",
      "|  2850|      NULL|\n",
      "|  2450|      NULL|\n",
      "|  3000|      NULL|\n",
      "|  5000|      NULL|\n",
      "|  1500|         0|\n",
      "|  1100|      NULL|\n",
      "|   950|      NULL|\n",
      "|  3000|      NULL|\n",
      "|  1300|      NULL|\n",
      "+------+----------+\n",
      "\n"
     ]
    }
   ],
   "source": [
    "spark.sql('''select sal AS salary, comm AS commission from emp''').show()"
   ]
  },
  {
   "cell_type": "code",
   "execution_count": null,
   "id": "d53dbd83-7384-4078-a142-e9753d5871ec",
   "metadata": {},
   "outputs": [],
   "source": [
    "emp_df1.select(col('sal').alias('salary'),col('comm').alias('commission')).show()"
   ]
  },
  {
   "cell_type": "code",
   "execution_count": 39,
   "id": "ffdfee52-00ca-48f5-aa2f-8b6c9307de58",
   "metadata": {},
   "outputs": [
    {
     "name": "stdout",
     "output_type": "stream",
     "text": [
      "+------+----------+\n",
      "|salary|commission|\n",
      "+------+----------+\n",
      "|   800|      NULL|\n",
      "|  1600|       300|\n",
      "|  1250|       500|\n",
      "|  2975|      NULL|\n",
      "|  1250|      1400|\n",
      "|  2850|      NULL|\n",
      "|  2450|      NULL|\n",
      "|  3000|      NULL|\n",
      "|  1500|         0|\n",
      "|  1100|      NULL|\n",
      "|   950|      NULL|\n",
      "|  3000|      NULL|\n",
      "|  1300|      NULL|\n",
      "+------+----------+\n",
      "\n"
     ]
    }
   ],
   "source": [
    "df = (emp_df.select(col('sal').alias('salary'),col('comm').alias('commission'))\n",
    "      .filter(expr(\"sal < 5000\"))\n",
    ")\n",
    "df.show()\n",
    "#df.where(col(\"salary\")<5000).show()\n",
    "#emp_df.filter(expr(\"sal < 5000\")).show()"
   ]
  },
  {
   "cell_type": "markdown",
   "id": "863d564c-62dd-48d9-849d-12108042cd0b",
   "metadata": {},
   "source": [
    "# Concating Column Values"
   ]
  },
  {
   "cell_type": "code",
   "execution_count": 17,
   "id": "045615df-2545-4612-8f31-f0b034e1a4dd",
   "metadata": {},
   "outputs": [
    {
     "name": "stdout",
     "output_type": "stream",
     "text": [
      "+--------------------+\n",
      "|                 msg|\n",
      "+--------------------+\n",
      "|SMITH WORKS AS A ...|\n",
      "|ALLEN WORKS AS A ...|\n",
      "|WARD WORKS AS A S...|\n",
      "|JONES WORKS AS A ...|\n",
      "|MARTIN WORKS AS A...|\n",
      "|BLAKE WORKS AS A ...|\n",
      "|CLARK WORKS AS A ...|\n",
      "|SCOTT WORKS AS A ...|\n",
      "|KING WORKS AS A P...|\n",
      "|Turner WORKS AS A...|\n",
      "|ADAMS WORKS AS A ...|\n",
      "|JAMES WORKS AS A ...|\n",
      "|FORD WORKS AS A A...|\n",
      "|MILLER WORKS AS A...|\n",
      "+--------------------+\n",
      "\n"
     ]
    }
   ],
   "source": [
    "spark.sql('''select concat(ename, ' WORKS AS A ', job) AS msg from emp''').show()"
   ]
  },
  {
   "cell_type": "raw",
   "id": "b2c0170b-d3a5-4422-9768-22ebeec61a70",
   "metadata": {},
   "source": [
    "pyspark.sql.functions provide two functions concat and concat_ws to concatenate multiple columns into a single column. concat_ws is known as concat with a separator."
   ]
  },
  {
   "cell_type": "code",
   "execution_count": 16,
   "id": "07ae9df2-f63d-4940-bba9-b9f7e3cd6bf5",
   "metadata": {},
   "outputs": [
    {
     "name": "stdout",
     "output_type": "stream",
     "text": [
      "+------------------------+\n",
      "|msg                     |\n",
      "+------------------------+\n",
      "|SMITH WORKS AS CLERK    |\n",
      "|ALLEN WORKS AS SALESMAN |\n",
      "|WARD WORKS AS SALESMAN  |\n",
      "|JONES WORKS AS MANAGER  |\n",
      "|MARTIN WORKS AS SALESMAN|\n",
      "|BLAKE WORKS AS MANAGER  |\n",
      "|CLARK WORKS AS MANAGER  |\n",
      "|SCOTT WORKS AS ANALYST  |\n",
      "|KING WORKS AS PRESIDENT |\n",
      "|Turner WORKS AS SALESMAN|\n",
      "|ADAMS WORKS AS CLERK    |\n",
      "|JAMES WORKS AS CLERK    |\n",
      "|FORD WORKS AS ANALYST   |\n",
      "|MILLER WORKS AS CLERK   |\n",
      "+------------------------+\n",
      "\n"
     ]
    }
   ],
   "source": [
    "emp_df1.select(concat_ws(' WORKS AS ',emp_df1.ename, emp_df1.job).alias('msg')).show(truncate=False) "
   ]
  },
  {
   "cell_type": "markdown",
   "id": "3cbf759a-e01d-465f-bd39-ecd8d620f4c7",
   "metadata": {},
   "source": [
    "# Using Conditional Logic in a SELECT Statement"
   ]
  },
  {
   "cell_type": "code",
   "execution_count": null,
   "id": "bfe10b32-e12b-4545-bc4c-701a69df0161",
   "metadata": {},
   "outputs": [],
   "source": []
  },
  {
   "cell_type": "code",
   "execution_count": 9,
   "id": "f55ab30f-f0e0-46fb-a4e7-3af2f7230e4c",
   "metadata": {},
   "outputs": [
    {
     "name": "stderr",
     "output_type": "stream",
     "text": [
      "                                                                                \r"
     ]
    },
    {
     "name": "stdout",
     "output_type": "stream",
     "text": [
      "+------+----+---------+\n",
      "| ename| sal|   status|\n",
      "+------+----+---------+\n",
      "| SMITH| 800|underpaid|\n",
      "| ALLEN|1600|underpaid|\n",
      "|  WARD|1250|underpaid|\n",
      "| JONES|2975|       OK|\n",
      "|MARTIN|1250|underpaid|\n",
      "| BLAKE|2850|       OK|\n",
      "| CLARK|2450|       OK|\n",
      "| SCOTT|3000|       OK|\n",
      "|  KING|5000| overpaid|\n",
      "|Turner|1500|underpaid|\n",
      "| ADAMS|1100|underpaid|\n",
      "| JAMES| 950|underpaid|\n",
      "|  FORD|3000|       OK|\n",
      "|MILLER|1300|underpaid|\n",
      "+------+----+---------+\n",
      "\n"
     ]
    }
   ],
   "source": [
    "spark.sql('''select ename, sal,\n",
    "            case\n",
    "            when sal <= 2000 then 'underpaid' \n",
    "            when sal >= 4000 then 'overpaid'\n",
    "            else 'OK'\n",
    "            end AS status from emp''').show()"
   ]
  },
  {
   "cell_type": "code",
   "execution_count": 11,
   "id": "a1780256-e11c-4260-90bc-8e9c56c0f107",
   "metadata": {},
   "outputs": [
    {
     "name": "stdout",
     "output_type": "stream",
     "text": [
      "+-----+------+---------+----+-----------+----+----+------+---------+\n",
      "|empno| ename|      job| mgr|   hiredate| sal|comm|deptno|   status|\n",
      "+-----+------+---------+----+-----------+----+----+------+---------+\n",
      "| 7369| SMITH|    CLERK|7902|17-DEC-2005| 800|NULL|    20|underpaid|\n",
      "| 7499| ALLEN| SALESMAN|7698|20-FEB-2006|1600| 300|    30|underpaid|\n",
      "| 7521|  WARD| SALESMAN|7698|22-FEB-2006|1250| 500|    30|underpaid|\n",
      "| 7566| JONES|  MANAGER|7839|02-APR-2006|2975|NULL|    20|       OK|\n",
      "| 7654|MARTIN| SALESMAN|7698|28-SEP-2006|1250|1400|    30|underpaid|\n",
      "| 7698| BLAKE|  MANAGER|7839|01-MAY-2006|2850|NULL|    30|       OK|\n",
      "| 7782| CLARK|  MANAGER|7839|09-JUN-2006|2450|NULL|    10|       OK|\n",
      "| 7788| SCOTT|  ANALYST|7566|09-DEC-2007|3000|NULL|    20|       OK|\n",
      "| 7839|  KING|PRESIDENT|NULL|17-NOV-2006|5000|NULL|    10| overpaid|\n",
      "| 7844|Turner| SALESMAN|7698|08-SEP-2006|1500|   0|    30|underpaid|\n",
      "| 7876| ADAMS|    CLERK|7788|12-JAN-2008|1100|NULL|    20|underpaid|\n",
      "| 7900| JAMES|    CLERK|7698|03-DEC-2006| 950|NULL|    30|underpaid|\n",
      "| 7902|  FORD|  ANALYST|7566|03-DEC-2006|3000|NULL|    20|       OK|\n",
      "| 7934|MILLER|    CLERK|7782|23-JAN-2007|1300|NULL|    10|underpaid|\n",
      "+-----+------+---------+----+-----------+----+----+------+---------+\n",
      "\n"
     ]
    }
   ],
   "source": [
    "emp_df1.withColumn(\"status\",\n",
    "                   when (emp_df1.sal<=2000, \"underpaid\")\n",
    "                   .when (emp_df1.sal>=4000, \"overpaid\")\n",
    "                   .otherwise(\"OK\") ).show()"
   ]
  },
  {
   "cell_type": "markdown",
   "id": "f89f7051-1802-4240-97da-b62f255b0316",
   "metadata": {},
   "source": [
    "# Returning n Random Records from a Table."
   ]
  },
  {
   "cell_type": "code",
   "execution_count": 19,
   "id": "d54779c9-b122-447d-b44f-d8494dc33022",
   "metadata": {},
   "outputs": [
    {
     "name": "stdout",
     "output_type": "stream",
     "text": [
      "+------+---------+\n",
      "| ename|      job|\n",
      "+------+---------+\n",
      "|  WARD| SALESMAN|\n",
      "| BLAKE|  MANAGER|\n",
      "|MARTIN| SALESMAN|\n",
      "|  KING|PRESIDENT|\n",
      "|  FORD|  ANALYST|\n",
      "+------+---------+\n",
      "\n"
     ]
    }
   ],
   "source": [
    "spark.sql(\"select ename,job from emp order by rand() limit 5\").show()"
   ]
  },
  {
   "cell_type": "code",
   "execution_count": 22,
   "id": "6ee541d7-08c7-4c00-99db-91b0683eff7f",
   "metadata": {
    "scrolled": true
   },
   "outputs": [
    {
     "name": "stdout",
     "output_type": "stream",
     "text": [
      "+-----+------+---------+----+-----------+----+----+------+\n",
      "|empno| ename|      job| mgr|   hiredate| sal|comm|deptno|\n",
      "+-----+------+---------+----+-----------+----+----+------+\n",
      "| 7369| SMITH|    CLERK|7902|17-DEC-2005| 800|   0|    20|\n",
      "| 7499| ALLEN| SALESMAN|7698|20-FEB-2006|1600| 300|    30|\n",
      "| 7521|  WARD| SALESMAN|7698|22-FEB-2006|1250| 500|    30|\n",
      "| 7566| JONES|  MANAGER|7839|02-APR-2006|2975|   0|    20|\n",
      "| 7654|MARTIN| SALESMAN|7698|28-SEP-2006|1250|1400|    30|\n",
      "| 7698| BLAKE|  MANAGER|7839|01-MAY-2006|2850|   0|    30|\n",
      "| 7782| CLARK|  MANAGER|7839|09-JUN-2006|2450|   0|    10|\n",
      "| 7788| SCOTT|  ANALYST|7566|09-DEC-2007|3000|   0|    20|\n",
      "| 7839|  KING|PRESIDENT|NULL|17-NOV-2006|5000|   0|    10|\n",
      "| 7844|Turner| SALESMAN|7698|08-SEP-2006|1500|   0|    30|\n",
      "| 7876| ADAMS|    CLERK|7788|12-JAN-2008|1100|   0|    20|\n",
      "| 7900| JAMES|    CLERK|7698|03-DEC-2006| 950|   0|    30|\n",
      "| 7902|  FORD|  ANALYST|7566|03-DEC-2006|3000|   0|    20|\n",
      "| 7934|MILLER|    CLERK|7782|23-JAN-2007|1300|   0|    10|\n",
      "+-----+------+---------+----+-----------+----+----+------+\n",
      "\n"
     ]
    }
   ],
   "source": [
    "#Pyspark Replace NULL/None Values with Zero.\n",
    "#emp_df1.na.fill(value=0).show()\n",
    "emp_df1.na.fill(value=0,subset=[\"comm\"]).show() "
   ]
  },
  {
   "cell_type": "markdown",
   "id": "a06564db-f2d1-4ee6-a6b0-faa0772acae5",
   "metadata": {},
   "source": [
    "# Searching for Patterns"
   ]
  },
  {
   "cell_type": "code",
   "execution_count": 24,
   "id": "2f539459-fb33-4f1d-96e4-44ab8e69f1fd",
   "metadata": {},
   "outputs": [
    {
     "name": "stdout",
     "output_type": "stream",
     "text": [
      "+-----+---+\n",
      "|ename|job|\n",
      "+-----+---+\n",
      "+-----+---+\n",
      "\n"
     ]
    }
   ],
   "source": [
    "spark.sql('''select ename, job \n",
    "            from emp\n",
    "            where deptno in (10, 20) \n",
    "            and (ename like '%I%' and job like '%ER') ''').show() "
   ]
  },
  {
   "cell_type": "code",
   "execution_count": null,
   "id": "3da94136-e725-4994-b910-ca5424707312",
   "metadata": {},
   "outputs": [],
   "source": []
  }
 ],
 "metadata": {
  "kernelspec": {
   "display_name": "Python 3 (ipykernel)",
   "language": "python",
   "name": "python3"
  },
  "language_info": {
   "codemirror_mode": {
    "name": "ipython",
    "version": 3
   },
   "file_extension": ".py",
   "mimetype": "text/x-python",
   "name": "python",
   "nbconvert_exporter": "python",
   "pygments_lexer": "ipython3",
   "version": "3.11.8"
  }
 },
 "nbformat": 4,
 "nbformat_minor": 5
}
