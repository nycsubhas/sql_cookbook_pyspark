{
 "cells": [
  {
   "cell_type": "code",
   "execution_count": 5,
   "id": "c1fdba2a-c63f-4e4e-b732-30cd3eb2720b",
   "metadata": {},
   "outputs": [],
   "source": [
    "data1 = [(7369, \"SMITH\", \"CLERK\", 7902, \"17-DEC-2005\", 800, None, 20),\n",
    "        (7499, \"ALLEN\", \"SALESMAN\",7698,\"20-FEB-2006\",1600,300,  30),\n",
    "        (7521, \"WARD\", \"SALESMAN\", 7698,\"22-FEB-2006\",1250,500,  30),\n",
    "        (7566, \"JONES\", \"MANAGER\", 7839, \"02-APR-2006\",2975,None,20),\n",
    "        (7654, \"MARTIN\", \"SALESMAN\", 7698, \"28-SEP-2006\",1250,1400,30),\n",
    "        (7698, \"BLAKE\", \"MANAGER\", 7839, \"01-MAY-2006\", 2850, None,30),\n",
    "        (7782, \"CLARK\", \"MANAGER\", 7839, \"09-JUN-2006\", 2450, None, 10),\n",
    "        (7788, \"SCOTT\", \"ANALYST\", 7566, \"09-DEC-2007\", 3000, None, 20),\n",
    "        (7839, \"KING\", \"PRESIDENT\",None, \"17-NOV-2006\", 5000, None, 10),\n",
    "        (7844, \"Turner\", \"SALESMAN\",7698, \"08-SEP-2006\", 1500, 0,  30),\n",
    "        (7876, \"ADAMS\", \"CLERK\",   7788,  \"12-JAN-2008\", 1100, None, 20),\n",
    "        (7900, \"JAMES\",  \"CLERK\",  7698,  \"03-DEC-2006\", 950, None, 30),\n",
    "        (7902, \"FORD\",  \"ANALYST\", 7566,  \"03-DEC-2006\", 3000, None, 20),\n",
    "        (7934, \"MILLER\", \"CLERK\",  7782,  \"23-JAN-2007\", 1300, None, 10)\n",
    "       ]\n",
    "schema1 = [\"empno\",\"ename\",\"job\",\"mgr\",\"hiredate\",\"sal\",\"comm\",\"deptno\"]\n",
    "        "
   ]
  },
  {
   "cell_type": "code",
   "execution_count": 6,
   "id": "e45f9681-4c79-465a-ab5b-63a20e2c67b9",
   "metadata": {
    "scrolled": true
   },
   "outputs": [],
   "source": [
    "from pyspark.sql import SparkSession \n",
    "from pyspark.sql.functions import *\n",
    "spark = SparkSession.builder.getOrCreate()\n",
    "emp_df = spark.createDataFrame(data1,schema1)"
   ]
  },
  {
   "cell_type": "code",
   "execution_count": 3,
   "id": "9ffb90b4-71cb-4299-b760-7a728f88f70d",
   "metadata": {},
   "outputs": [],
   "source": [
    "import sparkmon \n",
    "mon = sparkmon.SparkMon(spark, period=5)\n",
    "mon.start()\n",
    "\n",
    "app = mon.application"
   ]
  },
  {
   "cell_type": "code",
   "execution_count": 4,
   "id": "1b1c0dcf-7a4a-408e-8b4b-3f0eb9099b75",
   "metadata": {},
   "outputs": [],
   "source": [
    "app.debug = True\n",
    "app.parse_db() "
   ]
  },
  {
   "cell_type": "code",
   "execution_count": null,
   "id": "187e2075-fffc-4ad7-a1d6-bc8d45c0e315",
   "metadata": {},
   "outputs": [],
   "source": [
    "mon.application.plot()"
   ]
  },
  {
   "cell_type": "code",
   "execution_count": 8,
   "id": "0dab9c94-ea8c-455e-b482-9b21182549f9",
   "metadata": {},
   "outputs": [],
   "source": [
    "#df.show()\n",
    "emp_df.createOrReplaceTempView('emp')"
   ]
  },
  {
   "cell_type": "code",
   "execution_count": 10,
   "id": "53ec79ca-3e73-4d18-b7a5-2471040e694b",
   "metadata": {},
   "outputs": [],
   "source": [
    "data2 = [(10, \"ACCOUNTING\", \"NEW YORK\"),\n",
    "         (20, \"RESEARCH\", \"DALLAS\"),\n",
    "         (30, \"SALES\",    \"CHICAGO\"),\n",
    "         (40, \"OPERATIONS\", \"BOSTON\") ]\n",
    "schema2 = [\"deptno\", \"dname\", \"loc\"]"
   ]
  },
  {
   "cell_type": "code",
   "execution_count": 11,
   "id": "2ff42ec5-f065-4f0f-8f2d-3cab82951fac",
   "metadata": {},
   "outputs": [],
   "source": [
    "dept_df = spark.createDataFrame(data = data2, schema = schema2) "
   ]
  },
  {
   "cell_type": "code",
   "execution_count": 12,
   "id": "618081b8-764d-4f3a-84b7-07c7530598f7",
   "metadata": {},
   "outputs": [],
   "source": [
    "dept_df.createOrReplaceTempView('dept')"
   ]
  },
  {
   "cell_type": "markdown",
   "id": "df119b2d-2d85-4748-b6aa-cef31df0c03b",
   "metadata": {},
   "source": [
    "# Combining Related Rows"
   ]
  },
  {
   "cell_type": "code",
   "execution_count": 10,
   "id": "83f7e37d-0c21-4150-8292-233e5df2b201",
   "metadata": {},
   "outputs": [
    {
     "name": "stderr",
     "output_type": "stream",
     "text": [
      "                                                                                "
     ]
    },
    {
     "name": "stdout",
     "output_type": "stream",
     "text": [
      "+-----+------+---------+----+-----------+----+----+------+------+----------+--------+\n",
      "|empno| ename|      job| mgr|   hiredate| sal|comm|deptno|deptno|     dname|     loc|\n",
      "+-----+------+---------+----+-----------+----+----+------+------+----------+--------+\n",
      "| 7782| CLARK|  MANAGER|7839|09-JUN-2006|2450|NULL|    10|    10|ACCOUNTING|NEW YORK|\n",
      "| 7839|  KING|PRESIDENT|NULL|17-NOV-2006|5000|NULL|    10|    10|ACCOUNTING|NEW YORK|\n",
      "| 7934|MILLER|    CLERK|7782|23-JAN-2007|1300|NULL|    10|    10|ACCOUNTING|NEW YORK|\n",
      "+-----+------+---------+----+-----------+----+----+------+------+----------+--------+\n",
      "\n"
     ]
    }
   ],
   "source": [
    "spark.sql('''select * \n",
    "           from emp e inner join dept d\n",
    "           on (e.deptno=d.deptno) \n",
    "           where e.deptno=10 ''').show()\n",
    "           "
   ]
  },
  {
   "cell_type": "code",
   "execution_count": null,
   "id": "3deb49e5-49d3-4b08-bec1-acc091f39957",
   "metadata": {},
   "outputs": [],
   "source": [
    "from pyspark.sql.functions import expr\n",
    "emp_df.join(dept_df, emp_df.deptno==dept_df.deptno, \"inner\").where(expr(\"deptno=10\")).show()"
   ]
  },
  {
   "cell_type": "code",
   "execution_count": 11,
   "id": "9a337e9b-7760-4565-a8da-053fb63bd8d2",
   "metadata": {},
   "outputs": [
    {
     "name": "stderr",
     "output_type": "stream",
     "text": [
      "[Stage 6:============================================>              (3 + 1) / 4]"
     ]
    },
    {
     "name": "stdout",
     "output_type": "stream",
     "text": [
      "+------+--------+\n",
      "| ename|     loc|\n",
      "+------+--------+\n",
      "| CLARK|NEW YORK|\n",
      "|  KING|NEW YORK|\n",
      "|MILLER|NEW YORK|\n",
      "+------+--------+\n",
      "\n"
     ]
    },
    {
     "name": "stderr",
     "output_type": "stream",
     "text": [
      "                                                                                "
     ]
    }
   ],
   "source": [
    "emp_df.join(dept_df, emp_df.deptno==dept_df.deptno, \"inner\").select(emp_df.ename, dept_df.loc).where(emp_df.deptno==10).show()"
   ]
  },
  {
   "cell_type": "markdown",
   "id": "bacf3ec1-65bd-42d6-928a-08dcdc153e92",
   "metadata": {},
   "source": [
    "# Retrieving Values in one table that do not exist in another."
   ]
  },
  {
   "cell_type": "code",
   "execution_count": 18,
   "id": "040d15e8-8472-4c60-9094-4e4345bb43ae",
   "metadata": {},
   "outputs": [
    {
     "name": "stdout",
     "output_type": "stream",
     "text": [
      "+------+\n",
      "|deptno|\n",
      "+------+\n",
      "|    40|\n",
      "+------+\n",
      "\n"
     ]
    }
   ],
   "source": [
    "lst = emp_df.select(\"deptno\").collect()\n",
    "lst = [row[0] for row in lst]\n",
    "dept_df.select(\"deptno\").where(~dept_df.deptno.isin(lst)).show()"
   ]
  },
  {
   "cell_type": "code",
   "execution_count": 9,
   "id": "2e85b4ea-0f88-4e85-b610-794feb8e0023",
   "metadata": {},
   "outputs": [
    {
     "name": "stdout",
     "output_type": "stream",
     "text": [
      "+------+\n",
      "|deptno|\n",
      "+------+\n",
      "|    40|\n",
      "+------+\n",
      "\n"
     ]
    }
   ],
   "source": [
    "spark.sql('''select deptno from dept \n",
    "             where deptno not in (select deptno from emp)''').show()"
   ]
  },
  {
   "cell_type": "code",
   "execution_count": 20,
   "id": "c115790d-9cad-4fd9-a41a-b6040de05e7d",
   "metadata": {},
   "outputs": [
    {
     "name": "stdout",
     "output_type": "stream",
     "text": [
      "[20, 30, 30, 20, 30, 30, 10, 20, 10, 30, 20, 30, 20, 10]\n",
      "+------+----------+------+\n",
      "|deptno|     dname|   loc|\n",
      "+------+----------+------+\n",
      "|    40|OPERATIONS|BOSTON|\n",
      "+------+----------+------+\n",
      "\n"
     ]
    }
   ],
   "source": [
    "lst = emp_df.select(\"deptno\").collect()\n",
    "lst = [row[0] for row in lst]\n",
    "print(lst)\n",
    "dept_df.where(~dept_df.deptno.isin(lst)).show()"
   ]
  },
  {
   "cell_type": "code",
   "execution_count": 10,
   "id": "0c413b81-9246-487a-a118-0dbfa1a9234d",
   "metadata": {},
   "outputs": [
    {
     "name": "stdout",
     "output_type": "stream",
     "text": [
      "Row(deptno=20)\n"
     ]
    }
   ],
   "source": [
    "li_emp_df = emp_df.select(\"deptno\").collect()\n",
    "#li_emp_df = emp_df.select(emp_df.deptno)\n",
    "print(li_emp_df[0])\n",
    "#dept_df.select(dept_df.deptno).where(~dept_df.deptno.isin(li_emp_df)).show()"
   ]
  },
  {
   "cell_type": "code",
   "execution_count": 12,
   "id": "d4d12d3a-0669-4dea-af30-b49fadf95700",
   "metadata": {},
   "outputs": [
    {
     "name": "stdout",
     "output_type": "stream",
     "text": [
      "[20, 30, 30, 20, 30, 30, 10, 20, 10, 30, 20, 30, 20, 10]\n"
     ]
    }
   ],
   "source": [
    "li_emp_df = [row[0] for row in emp_df.select(\"deptno\").collect()]\n",
    "print(li_emp_df)"
   ]
  },
  {
   "cell_type": "code",
   "execution_count": 13,
   "id": "c2300f81-3048-4fbe-9a08-038d1c15efd3",
   "metadata": {},
   "outputs": [
    {
     "name": "stdout",
     "output_type": "stream",
     "text": [
      "+------+\n",
      "|deptno|\n",
      "+------+\n",
      "|    40|\n",
      "+------+\n",
      "\n"
     ]
    }
   ],
   "source": [
    "dept_df.select(dept_df.deptno).where(~dept_df.deptno.isin(li_emp_df)).show()"
   ]
  },
  {
   "cell_type": "markdown",
   "id": "a0fe3ffb-a6ec-44e5-a24f-9838de60773f",
   "metadata": {},
   "source": [
    "# Retrieving Rows from One Table That Do Not Corresponds to Rows in another."
   ]
  },
  {
   "cell_type": "code",
   "execution_count": 14,
   "id": "30ac2461-5739-467d-96c0-202fd49985d5",
   "metadata": {},
   "outputs": [
    {
     "name": "stdout",
     "output_type": "stream",
     "text": [
      "+------+----------+------+\n",
      "|deptno|     dname|   loc|\n",
      "+------+----------+------+\n",
      "|    40|OPERATIONS|BOSTON|\n",
      "+------+----------+------+\n",
      "\n"
     ]
    }
   ],
   "source": [
    "dept_df.select('*').where(~dept_df.deptno.isin(li_emp_df)).show()"
   ]
  },
  {
   "cell_type": "code",
   "execution_count": 21,
   "id": "c302f2b9-fd21-4eb7-a19e-76c08d4b7d0e",
   "metadata": {},
   "outputs": [],
   "source": [
    "df = dept_df.join(emp_df, dept_df.deptno==emp_df.deptno, \"leftouter\").select(dept_df.dname,dept_df.loc,emp_df.deptno)"
   ]
  },
  {
   "cell_type": "code",
   "execution_count": 23,
   "id": "27eb639a-6d5c-487a-9060-7045c9845d39",
   "metadata": {},
   "outputs": [
    {
     "name": "stdout",
     "output_type": "stream",
     "text": [
      "+----------+--------+------+\n",
      "|     dname|     loc|deptno|\n",
      "+----------+--------+------+\n",
      "|ACCOUNTING|NEW YORK|    10|\n",
      "|ACCOUNTING|NEW YORK|    10|\n",
      "|ACCOUNTING|NEW YORK|    10|\n",
      "|  RESEARCH|  DALLAS|    20|\n",
      "|  RESEARCH|  DALLAS|    20|\n",
      "|  RESEARCH|  DALLAS|    20|\n",
      "|  RESEARCH|  DALLAS|    20|\n",
      "|  RESEARCH|  DALLAS|    20|\n",
      "|     SALES| CHICAGO|    30|\n",
      "|     SALES| CHICAGO|    30|\n",
      "|     SALES| CHICAGO|    30|\n",
      "|     SALES| CHICAGO|    30|\n",
      "|     SALES| CHICAGO|    30|\n",
      "|     SALES| CHICAGO|    30|\n",
      "+----------+--------+------+\n",
      "\n"
     ]
    }
   ],
   "source": [
    "df.filter(expr(\"deptno is not NULL\")).show()"
   ]
  },
  {
   "cell_type": "code",
   "execution_count": 9,
   "id": "dddebc31-a73c-4260-afb1-aac32cc71094",
   "metadata": {},
   "outputs": [
    {
     "name": "stderr",
     "output_type": "stream",
     "text": [
      "                                                                                \r"
     ]
    },
    {
     "name": "stdout",
     "output_type": "stream",
     "text": [
      "+----------+------+------+\n",
      "|     dname|   loc|deptno|\n",
      "+----------+------+------+\n",
      "|OPERATIONS|BOSTON|  NULL|\n",
      "+----------+------+------+\n",
      "\n"
     ]
    }
   ],
   "source": [
    "df.filter(\"deptno is NULL\").show()"
   ]
  },
  {
   "cell_type": "markdown",
   "id": "b6993e3e-c3ef-4aa3-b746-16cc9126e909",
   "metadata": {},
   "source": [
    "# Adding Joins to a Query Without Interfering with Other Joins"
   ]
  },
  {
   "cell_type": "code",
   "execution_count": null,
   "id": "8f44f559-090a-4f2b-905b-b085cd58b344",
   "metadata": {},
   "outputs": [],
   "source": []
  },
  {
   "cell_type": "markdown",
   "id": "6faa62c7-fa51-43eb-ad04-daa59d83f966",
   "metadata": {},
   "source": [
    "# Determing whether two tables have the same data."
   ]
  },
  {
   "cell_type": "code",
   "execution_count": 14,
   "id": "568cbec5-da8d-416b-9109-f25a91a2b546",
   "metadata": {},
   "outputs": [
    {
     "name": "stdout",
     "output_type": "stream",
     "text": [
      "+-----+------+--------+----+-----------+----+----+------+\n",
      "|empno| ename|     job| mgr|   hiredate| sal|comm|deptno|\n",
      "+-----+------+--------+----+-----------+----+----+------+\n",
      "| 7369| SMITH|   CLERK|7902|17-DEC-2005| 800|NULL|    20|\n",
      "| 7499| ALLEN|SALESMAN|7698|20-FEB-2006|1600| 300|    30|\n",
      "| 7521|  WARD|SALESMAN|7698|22-FEB-2006|1250| 500|    30|\n",
      "| 7566| JONES| MANAGER|7839|02-APR-2006|2975|NULL|    20|\n",
      "| 7654|MARTIN|SALESMAN|7698|28-SEP-2006|1250|1400|    30|\n",
      "| 7698| BLAKE| MANAGER|7839|01-MAY-2006|2850|NULL|    30|\n",
      "| 7788| SCOTT| ANALYST|7566|09-DEC-2007|3000|NULL|    20|\n",
      "| 7844|Turner|SALESMAN|7698|08-SEP-2006|1500|   0|    30|\n",
      "| 7876| ADAMS|   CLERK|7788|12-JAN-2008|1100|NULL|    20|\n",
      "| 7900| JAMES|   CLERK|7698|03-DEC-2006| 950|NULL|    30|\n",
      "| 7902|  FORD| ANALYST|7566|03-DEC-2006|3000|NULL|    20|\n",
      "+-----+------+--------+----+-----------+----+----+------+\n",
      "\n"
     ]
    }
   ],
   "source": [
    "spark.sql('''DROP VIEW IF EXISTS view ''')\n",
    "spark.sql('''CREATE TEMPORARY VIEW view\n",
    "             as\n",
    "             (select * from emp where deptno != 10)\n",
    "             union all \n",
    "             select * from emp where ename = 'ward'\n",
    "          ''') \n",
    "spark.sql('''select * from view''').show()"
   ]
  },
  {
   "cell_type": "markdown",
   "id": "0732f152-cff1-459d-b285-a6f40d1e079c",
   "metadata": {},
   "source": [
    "##### Find rows in table emp that do not exists in view."
   ]
  },
  {
   "cell_type": "code",
   "execution_count": null,
   "id": "4ff38c02-3430-4573-a06a-1ba81844bbc7",
   "metadata": {},
   "outputs": [],
   "source": [
    "emp_df.select('*').where"
   ]
  },
  {
   "cell_type": "markdown",
   "id": "ed57b781-fac4-426f-bce0-d0b9a0b4a38c",
   "metadata": {},
   "source": [
    "# Performing Joins When Using Aggregates"
   ]
  },
  {
   "cell_type": "code",
   "execution_count": 21,
   "id": "0e2f3391-dcba-4fbc-b203-e9d4a5a15f48",
   "metadata": {},
   "outputs": [],
   "source": [
    "data3 = [(7934, \"17-MAR-2005\", 1),\n",
    "         (7934, \"15-FEB-2005\", 2),\n",
    "         (7839, \"15-FEB-2005\", 3),\n",
    "         (7782, \"15-FEB-2005\", 1) ]\n",
    "schema3 = [\"empno\", \"received\", \"type\"]"
   ]
  },
  {
   "cell_type": "code",
   "execution_count": 22,
   "id": "efed8597-880c-4717-adc2-32346c2d447f",
   "metadata": {},
   "outputs": [],
   "source": [
    "emp_bonus_df=spark.createDataFrame(data=data3, schema=schema3)"
   ]
  },
  {
   "cell_type": "code",
   "execution_count": 23,
   "id": "02ed6bd7-efe0-4397-b7e6-defc3487df46",
   "metadata": {},
   "outputs": [],
   "source": [
    "emp_bonus_df.createOrReplaceTempView(\"emp_bonus\")"
   ]
  },
  {
   "cell_type": "code",
   "execution_count": 24,
   "id": "de9ab041-6f57-4117-a332-aa4584417e09",
   "metadata": {},
   "outputs": [
    {
     "name": "stdout",
     "output_type": "stream",
     "text": [
      "+-----+-----------+----+\n",
      "|empno|   received|type|\n",
      "+-----+-----------+----+\n",
      "| 7934|17-MAR-2005|   1|\n",
      "| 7934|15-FEB-2005|   2|\n",
      "| 7839|15-FEB-2005|   3|\n",
      "| 7782|15-FEB-2005|   1|\n",
      "+-----+-----------+----+\n",
      "\n"
     ]
    }
   ],
   "source": [
    "spark.sql('''select *\n",
    "             from emp_bonus\n",
    "          ''').show()"
   ]
  },
  {
   "cell_type": "code",
   "execution_count": 25,
   "id": "3f674c3c-9918-4e80-adf7-222ceeb061ca",
   "metadata": {},
   "outputs": [
    {
     "name": "stdout",
     "output_type": "stream",
     "text": [
      "+-----+------+----+------+------+\n",
      "|empno| ename| sal|deptno| bonus|\n",
      "+-----+------+----+------+------+\n",
      "| 7782| CLARK|2450|    10| 245.0|\n",
      "| 7839|  KING|5000|    10|1500.0|\n",
      "| 7934|MILLER|1300|    10| 130.0|\n",
      "| 7934|MILLER|1300|    10| 260.0|\n",
      "+-----+------+----+------+------+\n",
      "\n"
     ]
    }
   ],
   "source": [
    "spark.sql('''select e.empno, e.ename, e.sal, e.deptno, e.sal*case when eb.type = 1 then .1\n",
    "                                                         when eb.type = 2 then .2\n",
    "                                                         else .3 \n",
    "                                                    end AS bonus from emp e, emp_bonus eb \n",
    "            where e.empno = eb.empno\n",
    "            and e.deptno = 10 ''').show()"
   ]
  },
  {
   "cell_type": "code",
   "execution_count": null,
   "id": "6e63b2df-0cc9-4938-b13e-0c66ce9c2a68",
   "metadata": {},
   "outputs": [],
   "source": [
    "df=emp_bonus_df.join(emp_df, emp_bonus_df.empno == emp_df.empno,\"inner\")\n",
    "df.withColumn(\"bonus\", when(df.type==1, df.sal*0.1)\n",
    "                       .when(df.type==2, df.sal*0.2)\n",
    "                       .otherwise(df.sal*0.3))"
   ]
  },
  {
   "cell_type": "code",
   "execution_count": 26,
   "id": "86cba4d3-28b7-48dc-968f-69335f1a30b7",
   "metadata": {},
   "outputs": [
    {
     "name": "stdout",
     "output_type": "stream",
     "text": [
      "+-----+------+------+----+----+------+\n",
      "|empno| ename|deptno| sal|type| bonus|\n",
      "+-----+------+------+----+----+------+\n",
      "| 7782| CLARK|    10|2450|   1| 245.0|\n",
      "| 7839|  KING|    10|5000|   3|1500.0|\n",
      "| 7934|MILLER|    10|1300|   1| 130.0|\n",
      "| 7934|MILLER|    10|1300|   2| 260.0|\n",
      "+-----+------+------+----+----+------+\n",
      "\n"
     ]
    }
   ],
   "source": [
    "df=emp_bonus_df.join(emp_df, emp_bonus_df.empno == emp_df.empno,\"inner\")\n",
    "df=df.select(emp_df.empno,emp_df.ename,emp_df.deptno,emp_df.sal,emp_bonus_df.type)\n",
    "df.withColumn(\"bonus\", when (df.type == 1, df.sal*0.1)\n",
    "                           .when (df.type == 2, df.sal*0.2)                            \n",
    "                           .otherwise (df.sal*0.3 )).show()"
   ]
  },
  {
   "cell_type": "markdown",
   "id": "bdb0b403-b9ad-4712-b563-e56c7cfca521",
   "metadata": {},
   "source": [
    "# Performing Outer Joins When Using Aggregates"
   ]
  },
  {
   "cell_type": "code",
   "execution_count": 20,
   "id": "52f6a4a0-8797-47be-924d-c9bacc159c58",
   "metadata": {},
   "outputs": [
    {
     "name": "stdout",
     "output_type": "stream",
     "text": [
      "+-----+------+------+----+----+------+------------+\n",
      "|empno| ename|deptno| sal|type| bonus|salary_bonus|\n",
      "+-----+------+------+----+----+------+------------+\n",
      "| 7782| CLARK|    10|2450|   1| 245.0|      2695.0|\n",
      "| 7839|  KING|    10|5000|   3|1500.0|      6500.0|\n",
      "| 7934|MILLER|    10|1300|   1| 130.0|      1430.0|\n",
      "| 7934|MILLER|    10|1300|   2| 260.0|      1560.0|\n",
      "+-----+------+------+----+----+------+------------+\n",
      "\n"
     ]
    }
   ],
   "source": [
    "df=df.withColumn(\"bonus\", when (df.type == 1, df.sal*0.1)\n",
    "                           .when (df.type == 2, df.sal*0.2)                            \n",
    "                           .otherwise (df.sal*0.3 ))\n",
    "df.withColumn(\"salary_bonus\", df.sal + df.bonus).show()"
   ]
  },
  {
   "cell_type": "markdown",
   "id": "3087a922-1899-43de-b41b-5e60ffd4bfb0",
   "metadata": {},
   "source": [
    "# Returning Missing Data from Multiple Tables "
   ]
  },
  {
   "cell_type": "code",
   "execution_count": null,
   "id": "d42ed55f-14f4-425d-a9ac-5ce76262b1ea",
   "metadata": {},
   "outputs": [],
   "source": [
    "spark.sql('''select d.deptno, d.dname, e.ename\n",
    "             from dept d \n",
    "             left outer join\n",
    "             emp e \n",
    "             on (d.deptno=e.deptno) ''').show()"
   ]
  },
  {
   "cell_type": "code",
   "execution_count": null,
   "id": "b480fe3c-db75-41ab-a8a7-399820a8b05d",
   "metadata": {},
   "outputs": [],
   "source": [
    "#select d.deptno, d.dname, e.ename\n",
    "#             from dept d \n",
    "#             left outer join\n",
    "#             emp e \n",
    "#             on (d.deptno=e.deptno) \n",
    "dept_df.join(emp_df,dept_df.deptno==emp_df.deptno, \"leftouter\").select(dept_df.deptno,dept_df.dname,emp_df.ename).show()"
   ]
  },
  {
   "cell_type": "code",
   "execution_count": 27,
   "id": "d2678432-d2bd-4c0c-8e44-0c128a67c81b",
   "metadata": {},
   "outputs": [
    {
     "name": "stdout",
     "output_type": "stream",
     "text": [
      "+------+----------+------+\n",
      "|deptno|     dname| ename|\n",
      "+------+----------+------+\n",
      "|    30|     SALES| ALLEN|\n",
      "|    30|     SALES|  WARD|\n",
      "|    20|  RESEARCH| SMITH|\n",
      "|    30|     SALES|MARTIN|\n",
      "|    30|     SALES| BLAKE|\n",
      "|    20|  RESEARCH| JONES|\n",
      "|    10|ACCOUNTING| CLARK|\n",
      "|    10|ACCOUNTING|  KING|\n",
      "|    20|  RESEARCH| SCOTT|\n",
      "|    10|ACCOUNTING|MILLER|\n",
      "|    30|     SALES|Turner|\n",
      "|    30|     SALES| JAMES|\n",
      "|    20|  RESEARCH| ADAMS|\n",
      "|    20|  RESEARCH|  FORD|\n",
      "+------+----------+------+\n",
      "\n"
     ]
    }
   ],
   "source": [
    "spark.sql('''select d.deptno, d.dname, e.ename\n",
    "             from dept d \n",
    "             right outer join\n",
    "             emp e \n",
    "             on (d.deptno=e.deptno) ''').show()"
   ]
  },
  {
   "cell_type": "code",
   "execution_count": null,
   "id": "a2f2cf10-e834-4762-9010-88e271b7bac9",
   "metadata": {},
   "outputs": [],
   "source": [
    "MySQL has no outer join. Hence, we need a union of leftouter and rightouter joins. "
   ]
  },
  {
   "cell_type": "code",
   "execution_count": 28,
   "id": "c7e3c4bd-0d88-4887-b3e3-98761aba8d55",
   "metadata": {},
   "outputs": [
    {
     "name": "stdout",
     "output_type": "stream",
     "text": [
      "+------+----+-----------------+\n",
      "| ename|comm|coalesce(comm, 0)|\n",
      "+------+----+-----------------+\n",
      "| SMITH|NULL|                0|\n",
      "| ALLEN| 300|              300|\n",
      "| JONES|NULL|                0|\n",
      "| BLAKE|NULL|                0|\n",
      "| CLARK|NULL|                0|\n",
      "| SCOTT|NULL|                0|\n",
      "|  KING|NULL|                0|\n",
      "|Turner|   0|                0|\n",
      "| ADAMS|NULL|                0|\n",
      "| JAMES|NULL|                0|\n",
      "|  FORD|NULL|                0|\n",
      "|MILLER|NULL|                0|\n",
      "+------+----+-----------------+\n",
      "\n"
     ]
    }
   ],
   "source": [
    "spark.sql('''\n",
    "           select ename,comm,coalesce(comm, 0)\n",
    "           from emp\n",
    "           where coalesce(comm, 0) < (select comm from emp where ename = 'WARD')\n",
    "          ''').show()"
   ]
  },
  {
   "cell_type": "code",
   "execution_count": null,
   "id": "1232895b-447d-4476-ba00-911cbe08ddb6",
   "metadata": {},
   "outputs": [],
   "source": []
  }
 ],
 "metadata": {
  "kernelspec": {
   "display_name": "Python 3 (ipykernel)",
   "language": "python",
   "name": "python3"
  },
  "language_info": {
   "codemirror_mode": {
    "name": "ipython",
    "version": 3
   },
   "file_extension": ".py",
   "mimetype": "text/x-python",
   "name": "python",
   "nbconvert_exporter": "python",
   "pygments_lexer": "ipython3",
   "version": "3.11.8"
  }
 },
 "nbformat": 4,
 "nbformat_minor": 5
}
