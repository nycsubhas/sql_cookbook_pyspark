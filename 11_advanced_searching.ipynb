{
 "cells": [
  {
   "cell_type": "code",
   "execution_count": 1,
   "id": "313a0489-9e7f-4d39-9a85-71d1cbcec37a",
   "metadata": {},
   "outputs": [],
   "source": [
    "data1 = [(7369, \"SMITH\", \"CLERK\", 7902, \"17-12-1980\", 800, None, 20),\n",
    "        (7499, \"ALLEN\", \"SALESMAN\",7698,\"20-02-1981\",1600,300,  30),\n",
    "        (7521, \"WARD\", \"SALESMAN\", 7698,\"22-02-1981\",1250,500,  30),\n",
    "        (7566, \"JONES\", \"MANAGER\", 7839, \"02-04-1981\",2975,None,20),\n",
    "        (7654, \"MARTIN\", \"SALESMAN\", 7698,\"28-09-1981\",1250,1400,30),\n",
    "        (7698, \"BLAKE\", \"MANAGER\", 7839, \"01-05-1981\", 2850, None,30),\n",
    "        (7782, \"CLARK\", \"MANAGER\", 7839, \"09-06-1981\", 2450, None, 10),\n",
    "        (7788, \"SCOTT\", \"ANALYST\", 7566, \"09-12-1982\", 3000, None, 20),\n",
    "        (7839, \"KING\", \"PRESIDENT\",None, \"17-11-1981\", 5000, None, 10),\n",
    "        (7844, \"Turner\", \"SALESMAN\",7698, \"08-09-1981\", 1500, 0,  30),\n",
    "        (7876, \"ADAMS\", \"CLERK\",   7788,  \"12-01-1983\", 1100, None, 20),\n",
    "        (7900, \"JAMES\",  \"CLERK\",  7698,  \"03-12-1981\", 950, None, 30),\n",
    "        (7902, \"FORD\",  \"ANALYST\", 7566,  \"03-12-1981\", 3000, None, 20),\n",
    "        (7934, \"MILLER\", \"CLERK\",  7782,  \"23-01-1982\", 1300, None, 10)\n",
    "       ]\n",
    "schema1 = [\"empno\",\"ename\",\"job\",\"mgr\",\"hiredate\",\"sal\",\"comm\",\"deptno\"]\n",
    "        "
   ]
  },
  {
   "cell_type": "code",
   "execution_count": 2,
   "id": "add58a8a-f97e-4250-97cc-cff6a02312c0",
   "metadata": {},
   "outputs": [
    {
     "name": "stderr",
     "output_type": "stream",
     "text": [
      "24/12/26 16:24:44 WARN Utils: Your hostname, user-HP-Pavilion-x360-Convertible-14-dh0xxx resolves to a loopback address: 127.0.1.1; using 192.168.122.1 instead (on interface virbr0)\n",
      "24/12/26 16:24:44 WARN Utils: Set SPARK_LOCAL_IP if you need to bind to another address\n",
      "Setting default log level to \"WARN\".\n",
      "To adjust logging level use sc.setLogLevel(newLevel). For SparkR, use setLogLevel(newLevel).\n",
      "24/12/26 16:24:44 WARN NativeCodeLoader: Unable to load native-hadoop library for your platform... using builtin-java classes where applicable\n",
      "24/12/26 16:24:45 WARN Utils: Service 'SparkUI' could not bind on port 4040. Attempting port 4041.\n",
      "24/12/26 16:24:45 WARN Utils: Service 'SparkUI' could not bind on port 4041. Attempting port 4042.\n"
     ]
    }
   ],
   "source": [
    "from pyspark.sql import SparkSession \n",
    "from pyspark.sql.functions import *\n",
    "spark = SparkSession.builder.getOrCreate()\n",
    "emp_df = spark.createDataFrame(data1,schema1)"
   ]
  },
  {
   "cell_type": "code",
   "execution_count": 3,
   "id": "60674b56-61e3-4159-85c8-d1c3373a0094",
   "metadata": {},
   "outputs": [],
   "source": [
    "emp_df.createOrReplaceTempView('emp')"
   ]
  },
  {
   "cell_type": "code",
   "execution_count": 4,
   "id": "101e3e06-b89d-49a3-aea8-f023a67237fc",
   "metadata": {},
   "outputs": [],
   "source": [
    "data2 = [(10, \"ACCOUNTING\", \"NEW YORK\"),\n",
    "         (20, \"RESEARCH\", \"DALLAS\"),\n",
    "         (30, \"SALES\",    \"CHICAGO\"),\n",
    "         (40, \"OPERATIONS\", \"BOSTON\") ]\n",
    "schema2 = [\"deptno\", \"dname\", \"loc\"]"
   ]
  },
  {
   "cell_type": "code",
   "execution_count": 5,
   "id": "a47b23d5-d4c6-44f2-b202-93e401754c9c",
   "metadata": {},
   "outputs": [],
   "source": [
    "dept_df = spark.createDataFrame(data = data2, schema = schema2) "
   ]
  },
  {
   "cell_type": "code",
   "execution_count": 6,
   "id": "e9135f28-266a-46d3-adc8-a924b8b4a83a",
   "metadata": {},
   "outputs": [],
   "source": [
    "dept_df.createOrReplaceTempView('dept')"
   ]
  },
  {
   "cell_type": "code",
   "execution_count": null,
   "id": "d339c326-bae5-4b26-b824-58bbea7361f5",
   "metadata": {
    "scrolled": true
   },
   "outputs": [],
   "source": [
    "spark.sql('''select sal from (\n",
    "             select row_number() over(order by sal) as rn, sal \n",
    "             from emp) x \n",
    "             where rn between 1 and 5''').show()"
   ]
  },
  {
   "cell_type": "code",
   "execution_count": 7,
   "id": "b4fe96a9-e229-488e-ae07-518867035da2",
   "metadata": {},
   "outputs": [
    {
     "name": "stderr",
     "output_type": "stream",
     "text": [
      "24/12/26 16:25:24 WARN WindowExec: No Partition Defined for Window operation! Moving all data to a single partition, this can cause serious performance degradation.\n",
      "24/12/26 16:25:24 WARN WindowExec: No Partition Defined for Window operation! Moving all data to a single partition, this can cause serious performance degradation.\n",
      "24/12/26 16:25:24 WARN WindowExec: No Partition Defined for Window operation! Moving all data to a single partition, this can cause serious performance degradation.\n",
      "                                                                                \r"
     ]
    },
    {
     "name": "stdout",
     "output_type": "stream",
     "text": [
      "+-----+-----+---------+----+----------+----+----+------+----------+\n",
      "|empno|ename|      job| mgr|  hiredate| sal|comm|deptno|row_number|\n",
      "+-----+-----+---------+----+----------+----+----+------+----------+\n",
      "| 7839| KING|PRESIDENT|NULL|17-11-1981|5000|NULL|    10|         1|\n",
      "+-----+-----+---------+----+----------+----+----+------+----------+\n",
      "\n"
     ]
    }
   ],
   "source": [
    "from pyspark.sql.window import Window \n",
    "windowspec = Window.orderBy(desc(\"sal\")) \n",
    "emp_df.withColumn(\"row_number\",row_number().over(windowspec)).where(col(\"row_number\")==1).show()"
   ]
  },
  {
   "cell_type": "markdown",
   "id": "9bc3d92e-d60f-4e3e-9d30-75fab536b58a",
   "metadata": {},
   "source": [
    "# Skipping n Rows from a Table"
   ]
  },
  {
   "cell_type": "code",
   "execution_count": null,
   "id": "96c2de34-cfc8-4829-8d52-91814d17db15",
   "metadata": {},
   "outputs": [],
   "source": [
    "spark.sql('''select ename \n",
    "               from (\n",
    "               select row_number() over (order by ename) rn, ename \n",
    "               from emp) x\n",
    "               where mod(rn, 2) = 1 ''').show()"
   ]
  },
  {
   "cell_type": "code",
   "execution_count": 8,
   "id": "0726a271-99b7-4b33-90e9-4f395fe7db7e",
   "metadata": {},
   "outputs": [
    {
     "name": "stderr",
     "output_type": "stream",
     "text": [
      "24/12/26 16:25:39 WARN WindowExec: No Partition Defined for Window operation! Moving all data to a single partition, this can cause serious performance degradation.\n",
      "24/12/26 16:25:39 WARN WindowExec: No Partition Defined for Window operation! Moving all data to a single partition, this can cause serious performance degradation.\n",
      "24/12/26 16:25:39 WARN WindowExec: No Partition Defined for Window operation! Moving all data to a single partition, this can cause serious performance degradation.\n"
     ]
    },
    {
     "name": "stdout",
     "output_type": "stream",
     "text": [
      "+---+------+\n",
      "| rn| ename|\n",
      "+---+------+\n",
      "|  1| SMITH|\n",
      "|  3| ADAMS|\n",
      "|  5|MARTIN|\n",
      "|  7|Turner|\n",
      "|  9| CLARK|\n",
      "| 11| JONES|\n",
      "| 13|  FORD|\n",
      "+---+------+\n",
      "\n"
     ]
    },
    {
     "name": "stderr",
     "output_type": "stream",
     "text": [
      "24/12/26 16:25:39 WARN WindowExec: No Partition Defined for Window operation! Moving all data to a single partition, this can cause serious performance degradation.\n",
      "24/12/26 16:25:39 WARN WindowExec: No Partition Defined for Window operation! Moving all data to a single partition, this can cause serious performance degradation.\n"
     ]
    }
   ],
   "source": [
    "from pyspark.sql.window import Window\n",
    "windowspec = Window.orderBy(\"sal\") \n",
    "\n",
    "emp_df.withColumn('rn',row_number().over(windowspec)).where(col('rn') % 2 ==1).select('rn','ename').show()"
   ]
  },
  {
   "cell_type": "markdown",
   "id": "a20d00ee-5704-4cf6-8ca8-34cd6a38b144",
   "metadata": {},
   "source": [
    "# Incorporating OR Logic When Using Outer Joins"
   ]
  },
  {
   "cell_type": "raw",
   "id": "41ef091c-b3e2-47ca-9d90-9d608327eb05",
   "metadata": {},
   "source": [
    "Problem: Return the name and department information for all employees in departments 10 and 20 along with department information for departments 30 and 40 (but no employee information)."
   ]
  },
  {
   "cell_type": "code",
   "execution_count": 9,
   "id": "43dbde0b-64f7-45d6-8602-8ab2a5fe86da",
   "metadata": {},
   "outputs": [
    {
     "name": "stdout",
     "output_type": "stream",
     "text": [
      "+------+----------+--------+\n",
      "|deptno|     dname|     loc|\n",
      "+------+----------+--------+\n",
      "|    10|ACCOUNTING|NEW YORK|\n",
      "|    20|  RESEARCH|  DALLAS|\n",
      "|    30|     SALES| CHICAGO|\n",
      "|    40|OPERATIONS|  BOSTON|\n",
      "+------+----------+--------+\n",
      "\n"
     ]
    }
   ],
   "source": [
    "dept_df.show()"
   ]
  },
  {
   "cell_type": "code",
   "execution_count": 10,
   "id": "1003c5b3-949f-4b2c-b180-8e73398112f9",
   "metadata": {},
   "outputs": [
    {
     "name": "stdout",
     "output_type": "stream",
     "text": [
      "+------+----------+--------+-----+------+---------+----+----------+----+----+------+\n",
      "|deptno|     dname|     loc|empno| ename|      job| mgr|  hiredate| sal|comm|deptno|\n",
      "+------+----------+--------+-----+------+---------+----+----------+----+----+------+\n",
      "|    10|ACCOUNTING|NEW YORK| 7934|MILLER|    CLERK|7782|23-01-1982|1300|NULL|    10|\n",
      "|    10|ACCOUNTING|NEW YORK| 7839|  KING|PRESIDENT|NULL|17-11-1981|5000|NULL|    10|\n",
      "|    10|ACCOUNTING|NEW YORK| 7782| CLARK|  MANAGER|7839|09-06-1981|2450|NULL|    10|\n",
      "|    20|  RESEARCH|  DALLAS| 7902|  FORD|  ANALYST|7566|03-12-1981|3000|NULL|    20|\n",
      "|    20|  RESEARCH|  DALLAS| 7876| ADAMS|    CLERK|7788|12-01-1983|1100|NULL|    20|\n",
      "|    20|  RESEARCH|  DALLAS| 7788| SCOTT|  ANALYST|7566|09-12-1982|3000|NULL|    20|\n",
      "|    20|  RESEARCH|  DALLAS| 7566| JONES|  MANAGER|7839|02-04-1981|2975|NULL|    20|\n",
      "|    20|  RESEARCH|  DALLAS| 7369| SMITH|    CLERK|7902|17-12-1980| 800|NULL|    20|\n",
      "|    30|     SALES| CHICAGO| NULL|  NULL|     NULL|NULL|      NULL|NULL|NULL|  NULL|\n",
      "|    40|OPERATIONS|  BOSTON| NULL|  NULL|     NULL|NULL|      NULL|NULL|NULL|  NULL|\n",
      "+------+----------+--------+-----+------+---------+----+----------+----+----+------+\n",
      "\n"
     ]
    }
   ],
   "source": [
    "dept_df.join(emp_df, (dept_df.deptno==emp_df.deptno) & ((emp_df.deptno==10)|(emp_df.deptno==20)) , \"left_outer\").show() #where((emp_df.deptno == 10)|(emp_df.deptno == 20)).show()"
   ]
  },
  {
   "cell_type": "code",
   "execution_count": null,
   "id": "b392f02d-6ff5-4a4d-b0f6-430de5c8954d",
   "metadata": {},
   "outputs": [],
   "source": [
    "spark.sql(\"select * from dept\").show()"
   ]
  },
  {
   "cell_type": "markdown",
   "id": "5552e441-01d4-4c87-b1b5-e82fc16379cb",
   "metadata": {},
   "source": [
    "# Selecting the Top n Records"
   ]
  },
  {
   "cell_type": "code",
   "execution_count": 12,
   "id": "fbdd4701-cb56-4994-bf0e-0725681d4eaa",
   "metadata": {},
   "outputs": [
    {
     "name": "stderr",
     "output_type": "stream",
     "text": [
      "24/12/26 16:28:39 WARN WindowExec: No Partition Defined for Window operation! Moving all data to a single partition, this can cause serious performance degradation.\n",
      "24/12/26 16:28:39 WARN WindowExec: No Partition Defined for Window operation! Moving all data to a single partition, this can cause serious performance degradation.\n",
      "24/12/26 16:28:39 WARN WindowExec: No Partition Defined for Window operation! Moving all data to a single partition, this can cause serious performance degradation.\n"
     ]
    },
    {
     "name": "stdout",
     "output_type": "stream",
     "text": [
      "+-----+-----+---------+----+----------+----+----+------+---+\n",
      "|empno|ename|      job| mgr|  hiredate| sal|comm|deptno| dr|\n",
      "+-----+-----+---------+----+----------+----+----+------+---+\n",
      "| 7839| KING|PRESIDENT|NULL|17-11-1981|5000|NULL|    10|  1|\n",
      "| 7788|SCOTT|  ANALYST|7566|09-12-1982|3000|NULL|    20|  2|\n",
      "| 7902| FORD|  ANALYST|7566|03-12-1981|3000|NULL|    20|  2|\n",
      "| 7566|JONES|  MANAGER|7839|02-04-1981|2975|NULL|    20|  3|\n",
      "| 7698|BLAKE|  MANAGER|7839|01-05-1981|2850|NULL|    30|  4|\n",
      "| 7782|CLARK|  MANAGER|7839|09-06-1981|2450|NULL|    10|  5|\n",
      "+-----+-----+---------+----+----------+----+----+------+---+\n",
      "\n"
     ]
    },
    {
     "name": "stderr",
     "output_type": "stream",
     "text": [
      "24/12/26 16:28:39 WARN WindowExec: No Partition Defined for Window operation! Moving all data to a single partition, this can cause serious performance degradation.\n",
      "24/12/26 16:28:39 WARN WindowExec: No Partition Defined for Window operation! Moving all data to a single partition, this can cause serious performance degradation.\n"
     ]
    }
   ],
   "source": [
    "from pyspark.sql.window import Window\n",
    "windowspec=Window.orderBy(desc(\"sal\"))\n",
    "df = emp_df.withColumn('dr',dense_rank().over(windowspec))\n",
    "df.where(df.dr<=5).show()"
   ]
  },
  {
   "cell_type": "markdown",
   "id": "0dc84f72-f4b3-440f-9914-d4bd4f032ae9",
   "metadata": {},
   "source": [
    "# Finding Records with the Highest and Lowest Values"
   ]
  },
  {
   "cell_type": "code",
   "execution_count": 13,
   "id": "3f8f4459-80f3-45c7-a0b6-f2018cd3d9b8",
   "metadata": {},
   "outputs": [
    {
     "name": "stdout",
     "output_type": "stream",
     "text": [
      "lst = [800, 5000]\n",
      "+-----+-----+---------+----+----------+----+----+------+\n",
      "|empno|ename|      job| mgr|  hiredate| sal|comm|deptno|\n",
      "+-----+-----+---------+----+----------+----+----+------+\n",
      "| 7369|SMITH|    CLERK|7902|17-12-1980| 800|NULL|    20|\n",
      "| 7839| KING|PRESIDENT|NULL|17-11-1981|5000|NULL|    10|\n",
      "+-----+-----+---------+----+----------+----+----+------+\n",
      "\n",
      "+-----+----+\n",
      "|ename| sal|\n",
      "+-----+----+\n",
      "|SMITH| 800|\n",
      "| KING|5000|\n",
      "+-----+----+\n",
      "\n"
     ]
    }
   ],
   "source": [
    "min=emp_df.agg({\"sal\": \"min\"}).collect()[0][0]\n",
    "max=emp_df.agg({\"sal\":\"max\"}).collect()[0][0]\n",
    "lst = [min, max]\n",
    "print(f'lst = {lst}')\n",
    "emp_df.where(col(\"sal\").isin(lst)).show()\n",
    "emp_df.where(col(\"sal\").isin(lst)).select(\"ename\",\"sal\").show()"
   ]
  },
  {
   "cell_type": "markdown",
   "id": "bf173dfe-1a56-49e2-90f5-f0cd3c382a5f",
   "metadata": {},
   "source": [
    "# Investigating Future Rows"
   ]
  },
  {
   "cell_type": "code",
   "execution_count": 14,
   "id": "92acc433-3e90-4ed9-bfd4-cf04b448ec82",
   "metadata": {},
   "outputs": [],
   "source": [
    "emp_df=emp_df.withColumn('hiredate', to_date(col(\"hiredate\"),\"dd-mm-yyyy\"))"
   ]
  },
  {
   "cell_type": "code",
   "execution_count": 15,
   "id": "3808188e-6603-4e81-973a-5840fe1a107c",
   "metadata": {},
   "outputs": [
    {
     "name": "stderr",
     "output_type": "stream",
     "text": [
      "24/12/26 16:31:23 WARN WindowExec: No Partition Defined for Window operation! Moving all data to a single partition, this can cause serious performance degradation.\n",
      "24/12/26 16:31:23 WARN WindowExec: No Partition Defined for Window operation! Moving all data to a single partition, this can cause serious performance degradation.\n",
      "24/12/26 16:31:23 WARN WindowExec: No Partition Defined for Window operation! Moving all data to a single partition, this can cause serious performance degradation.\n"
     ]
    },
    {
     "name": "stdout",
     "output_type": "stream",
     "text": [
      "+-----+------+--------+----+----------+----+----+------+--------+\n",
      "|empno| ename|     job| mgr|  hiredate| sal|comm|deptno|next_sal|\n",
      "+-----+------+--------+----+----------+----+----+------+--------+\n",
      "| 7369| SMITH|   CLERK|7902|1980-01-17| 800|NULL|    20|    2850|\n",
      "| 7698| BLAKE| MANAGER|7839|1981-01-01|2850|NULL|    30|    2975|\n",
      "| 7900| JAMES|   CLERK|7698|1981-01-03| 950|NULL|    30|    3000|\n",
      "| 7844|Turner|SALESMAN|7698|1981-01-08|1500|   0|    30|    2450|\n",
      "| 7782| CLARK| MANAGER|7839|1981-01-09|2450|NULL|    10|    5000|\n",
      "| 7654|MARTIN|SALESMAN|7698|1981-01-28|1250|1400|    30|    3000|\n",
      "+-----+------+--------+----+----------+----+----+------+--------+\n",
      "\n"
     ]
    },
    {
     "name": "stderr",
     "output_type": "stream",
     "text": [
      "24/12/26 16:31:23 WARN WindowExec: No Partition Defined for Window operation! Moving all data to a single partition, this can cause serious performance degradation.\n",
      "24/12/26 16:31:23 WARN WindowExec: No Partition Defined for Window operation! Moving all data to a single partition, this can cause serious performance degradation.\n"
     ]
    }
   ],
   "source": [
    "from pyspark.sql.window import Window\n",
    "#windowspec=Window.partitionBy(\"deptno\").orderBy(\"sal\") \n",
    "windowspec=Window.orderBy(\"hiredate\") \n",
    "#emp_df1.withColumn(\"next_sal\",lead(\"sal\",1).over(windowspec)).show()\n",
    "emp_df.withColumn(\"next_sal\",lead(\"sal\",1).over(windowspec)).where(col(\"sal\") < col(\"next_sal\")).show()"
   ]
  },
  {
   "cell_type": "markdown",
   "id": "846bb2f0-1f41-4362-b195-b452b68c427d",
   "metadata": {},
   "source": [
    "# Shifting Row Values"
   ]
  },
  {
   "cell_type": "code",
   "execution_count": 16,
   "id": "5b4e54b8-64f2-4450-be69-db61eb7e6138",
   "metadata": {},
   "outputs": [
    {
     "name": "stderr",
     "output_type": "stream",
     "text": [
      "24/12/26 16:37:24 WARN WindowExec: No Partition Defined for Window operation! Moving all data to a single partition, this can cause serious performance degradation.\n",
      "24/12/26 16:37:24 WARN WindowExec: No Partition Defined for Window operation! Moving all data to a single partition, this can cause serious performance degradation.\n",
      "24/12/26 16:37:24 WARN WindowExec: No Partition Defined for Window operation! Moving all data to a single partition, this can cause serious performance degradation.\n",
      "24/12/26 16:37:24 WARN WindowExec: No Partition Defined for Window operation! Moving all data to a single partition, this can cause serious performance degradation.\n",
      "24/12/26 16:37:24 WARN WindowExec: No Partition Defined for Window operation! Moving all data to a single partition, this can cause serious performance degradation.\n",
      "24/12/26 16:37:24 WARN WindowExec: No Partition Defined for Window operation! Moving all data to a single partition, this can cause serious performance degradation.\n",
      "24/12/26 16:37:24 WARN WindowExec: No Partition Defined for Window operation! Moving all data to a single partition, this can cause serious performance degradation.\n",
      "24/12/26 16:37:24 WARN WindowExec: No Partition Defined for Window operation! Moving all data to a single partition, this can cause serious performance degradation.\n"
     ]
    },
    {
     "name": "stdout",
     "output_type": "stream",
     "text": [
      "+-----+------+---------+----+----------+----+----+------+-------+---+\n",
      "|empno| ename|      job| mgr|  hiredate| sal|comm|deptno|forward|min|\n",
      "+-----+------+---------+----+----------+----+----+------+-------+---+\n",
      "| 7369| SMITH|    CLERK|7902|1980-01-17| 800|NULL|    20|    950|800|\n",
      "| 7900| JAMES|    CLERK|7698|1981-01-03| 950|NULL|    30|   1100|800|\n",
      "| 7876| ADAMS|    CLERK|7788|1983-01-12|1100|NULL|    20|   1250|800|\n",
      "| 7521|  WARD| SALESMAN|7698|1981-01-22|1250| 500|    30|   1250|800|\n",
      "| 7654|MARTIN| SALESMAN|7698|1981-01-28|1250|1400|    30|   1300|800|\n",
      "| 7934|MILLER|    CLERK|7782|1982-01-23|1300|NULL|    10|   1500|800|\n",
      "| 7844|Turner| SALESMAN|7698|1981-01-08|1500|   0|    30|   1600|800|\n",
      "| 7499| ALLEN| SALESMAN|7698|1981-01-20|1600| 300|    30|   2450|800|\n",
      "| 7782| CLARK|  MANAGER|7839|1981-01-09|2450|NULL|    10|   2850|800|\n",
      "| 7698| BLAKE|  MANAGER|7839|1981-01-01|2850|NULL|    30|   2975|800|\n",
      "| 7566| JONES|  MANAGER|7839|1981-01-02|2975|NULL|    20|   3000|800|\n",
      "| 7788| SCOTT|  ANALYST|7566|1982-01-09|3000|NULL|    20|   3000|800|\n",
      "| 7902|  FORD|  ANALYST|7566|1981-01-03|3000|NULL|    20|   5000|800|\n",
      "| 7839|  KING|PRESIDENT|NULL|1981-01-17|5000|NULL|    10|   NULL|800|\n",
      "+-----+------+---------+----+----------+----+----+------+-------+---+\n",
      "\n",
      "+-----+------+---------+----+----------+----+----+------+-------+\n",
      "|empno| ename|      job| mgr|  hiredate| sal|comm|deptno|forward|\n",
      "+-----+------+---------+----+----------+----+----+------+-------+\n",
      "| 7369| SMITH|    CLERK|7902|1980-01-17| 800|NULL|    20|    950|\n",
      "| 7900| JAMES|    CLERK|7698|1981-01-03| 950|NULL|    30|   1100|\n",
      "| 7876| ADAMS|    CLERK|7788|1983-01-12|1100|NULL|    20|   1250|\n",
      "| 7521|  WARD| SALESMAN|7698|1981-01-22|1250| 500|    30|   1250|\n",
      "| 7654|MARTIN| SALESMAN|7698|1981-01-28|1250|1400|    30|   1300|\n",
      "| 7934|MILLER|    CLERK|7782|1982-01-23|1300|NULL|    10|   1500|\n",
      "| 7844|Turner| SALESMAN|7698|1981-01-08|1500|   0|    30|   1600|\n",
      "| 7499| ALLEN| SALESMAN|7698|1981-01-20|1600| 300|    30|   2450|\n",
      "| 7782| CLARK|  MANAGER|7839|1981-01-09|2450|NULL|    10|   2850|\n",
      "| 7698| BLAKE|  MANAGER|7839|1981-01-01|2850|NULL|    30|   2975|\n",
      "| 7566| JONES|  MANAGER|7839|1981-01-02|2975|NULL|    20|   3000|\n",
      "| 7788| SCOTT|  ANALYST|7566|1982-01-09|3000|NULL|    20|   3000|\n",
      "| 7902|  FORD|  ANALYST|7566|1981-01-03|3000|NULL|    20|   5000|\n",
      "| 7839|  KING|PRESIDENT|NULL|1981-01-17|5000|NULL|    10|    800|\n",
      "+-----+------+---------+----+----------+----+----+------+-------+\n",
      "\n"
     ]
    },
    {
     "name": "stderr",
     "output_type": "stream",
     "text": [
      "24/12/26 16:37:24 WARN WindowExec: No Partition Defined for Window operation! Moving all data to a single partition, this can cause serious performance degradation.\n",
      "24/12/26 16:37:24 WARN WindowExec: No Partition Defined for Window operation! Moving all data to a single partition, this can cause serious performance degradation.\n"
     ]
    }
   ],
   "source": [
    "from pyspark.sql.window import Window\n",
    "windspec=Window.orderBy(\"sal\")\n",
    "\n",
    "emp_df = emp_df.withColumn(\"forward\",lead(\"sal\").over(windspec)) #.show() \n",
    "#emp_df.withColumn(\"rewind\", lag(\"sal\").over(windspec)).show() \n",
    "\n",
    "min=emp_df.agg({\"sal\": \"min\"}).collect()[0][0]\n",
    "emp_df = emp_df.select('*',lit(min).alias(\"min\")) #.show()\n",
    "emp_df.show()\n",
    "emp_df = emp_df.withColumn(\"forward\",coalesce(emp_df.forward,emp_df.min)) #.show()\n",
    "emp_df.drop(\"min\").show()"
   ]
  },
  {
   "cell_type": "markdown",
   "id": "fe5ed813-5dcc-411c-83a8-9f85ae5f3142",
   "metadata": {},
   "source": [
    "# Ranking Results"
   ]
  },
  {
   "cell_type": "code",
   "execution_count": null,
   "id": "8479ac13-596d-4036-9cb2-f2b081ed9349",
   "metadata": {},
   "outputs": [],
   "source": [
    "from pyspark.sql.window import Window\n",
    "windspec=Window.orderBy(\"sal\")\n",
    "emp_df1.withColumn(\"drnk\", dense_rank().over(windspec)).select(\"drnk\",\"sal\").show()  "
   ]
  },
  {
   "cell_type": "markdown",
   "id": "380c6d8d-f837-4ded-a5a9-5d452faf0bec",
   "metadata": {},
   "source": [
    "# Finding Knight Values"
   ]
  },
  {
   "cell_type": "code",
   "execution_count": null,
   "id": "7f31c9f3-e479-4210-9e5b-b4190ac05ad9",
   "metadata": {},
   "outputs": [],
   "source": []
  }
 ],
 "metadata": {
  "kernelspec": {
   "display_name": "Python 3 (ipykernel)",
   "language": "python",
   "name": "python3"
  },
  "language_info": {
   "codemirror_mode": {
    "name": "ipython",
    "version": 3
   },
   "file_extension": ".py",
   "mimetype": "text/x-python",
   "name": "python",
   "nbconvert_exporter": "python",
   "pygments_lexer": "ipython3",
   "version": "3.11.8"
  }
 },
 "nbformat": 4,
 "nbformat_minor": 5
}
