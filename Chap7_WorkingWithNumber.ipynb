{
 "cells": [
  {
   "cell_type": "code",
   "execution_count": 1,
   "id": "32b0ec56-43c2-4327-85b6-0d11b483ee64",
   "metadata": {},
   "outputs": [],
   "source": [
    "data1 = [(7369, \"SMITH\", \"CLERK\", 7902, \"17-DEC-2005\", 800, None, 20),\n",
    "        (7499, \"ALLEN\", \"SALESMAN\",7698,\"20-FEB-2006\",1600,300,  30),\n",
    "        (7521, \"WARD\", \"SALESMAN\", 7698,\"22-FEB-2006\",1250,500,  30),\n",
    "        (7566, \"JONES\", \"MANAGER\", 7839, \"02-APR-2006\",2975,None,20),\n",
    "        (7654, \"MARTIN\", \"SALESMAN\", 7698, \"28-SEP-2006\",1250,1400,30),\n",
    "        (7698, \"BLAKE\", \"MANAGER\", 7839, \"01-MAY-2006\", 2850, None,30),\n",
    "        (7782, \"CLARK\", \"MANAGER\", 7839, \"09-JUN-2006\", 2450, None, 10),\n",
    "        (7788, \"SCOTT\", \"ANALYST\", 7566, \"09-DEC-2007\", 3000, None, 20),\n",
    "        (7839, \"KING\", \"PRESIDENT\",None, \"17-NOV-2006\", 5000, None, 10),\n",
    "        (7844, \"Turner\", \"SALESMAN\",7698, \"08-SEP-2006\", 1500, 0,  30),\n",
    "        (7876, \"ADAMS\", \"CLERK\",   7788,  \"12-JAN-2008\", 1100, None, 20),\n",
    "        (7900, \"JAMES\",  \"CLERK\",  7698,  \"03-DEC-2006\", 950, None, 30),\n",
    "        (7902, \"FORD\",  \"ANALYST\", 7566,  \"03-DEC-2006\", 3000, None, 20),\n",
    "        (7934, \"MILLER\", \"CLERK\",  7782,  \"23-JAN-2007\", 1300, None, 10)\n",
    "       ]\n",
    "schema1 = [\"empno\",\"ename\",\"job\",\"mgr\",\"hiredate\",\"sal\",\"comm\",\"deptno\"]\n",
    "        "
   ]
  },
  {
   "cell_type": "code",
   "execution_count": null,
   "id": "144ca7b4-353b-414f-a55f-8c4516a426d0",
   "metadata": {
    "scrolled": true
   },
   "outputs": [],
   "source": [
    "from pyspark.sql import SparkSession \n",
    "from pyspark.sql.functions import *\n",
    "spark = SparkSession.builder.getOrCreate()\n",
    "emp_df = spark.createDataFrame(data1,schema1)"
   ]
  },
  {
   "cell_type": "code",
   "execution_count": 4,
   "id": "77d0fbfc-01e8-49a9-afb7-ae018169d6dc",
   "metadata": {},
   "outputs": [],
   "source": [
    "emp_df.createOrReplaceTempView('emp')"
   ]
  },
  {
   "cell_type": "markdown",
   "id": "81e7ea94-42b8-4828-9695-2606a983d5d2",
   "metadata": {},
   "source": [
    "# Average Salary for All the Employees"
   ]
  },
  {
   "cell_type": "code",
   "execution_count": 5,
   "id": "b3c39d2f-d67d-4312-b371-0e39270c0327",
   "metadata": {},
   "outputs": [
    {
     "name": "stderr",
     "output_type": "stream",
     "text": [
      "                                                                                \r"
     ]
    },
    {
     "name": "stdout",
     "output_type": "stream",
     "text": [
      "+----------+\n",
      "|avg_salary|\n",
      "+----------+\n",
      "|   2073.21|\n",
      "+----------+\n",
      "\n"
     ]
    }
   ],
   "source": [
    "spark.sql(\"select round(avg(sal), 2) as avg_salary from emp\").show()"
   ]
  },
  {
   "cell_type": "code",
   "execution_count": 6,
   "id": "34b02d91-fd03-4083-b37d-78e66712f090",
   "metadata": {},
   "outputs": [
    {
     "name": "stdout",
     "output_type": "stream",
     "text": [
      "+----------+\n",
      "|avg_salary|\n",
      "+----------+\n",
      "|   2073.21|\n",
      "+----------+\n",
      "\n"
     ]
    }
   ],
   "source": [
    "emp_df.select(round(avg(\"sal\"),2).alias(\"avg_salary\")).show()"
   ]
  },
  {
   "cell_type": "markdown",
   "id": "c23c5eca-0f8c-4f2b-bfec-d3dc5d8fe3cb",
   "metadata": {},
   "source": [
    "# Average Salary for each department"
   ]
  },
  {
   "cell_type": "code",
   "execution_count": 6,
   "id": "13d199ef-c772-4fc3-8079-90e1e3712054",
   "metadata": {},
   "outputs": [
    {
     "name": "stdout",
     "output_type": "stream",
     "text": [
      "+------+----------+\n",
      "|deptno|avg_salary|\n",
      "+------+----------+\n",
      "|    30|   1566.67|\n",
      "|    20|    2175.0|\n",
      "|    10|   2916.67|\n",
      "+------+----------+\n",
      "\n"
     ]
    }
   ],
   "source": [
    "spark.sql('''\n",
    "           select deptno, round(avg(sal),2) as avg_salary from emp\n",
    "           group by deptno\n",
    "          ''').show()  "
   ]
  },
  {
   "cell_type": "code",
   "execution_count": 7,
   "id": "1b37e108-fca6-416b-b073-4966b80a47f5",
   "metadata": {},
   "outputs": [
    {
     "name": "stdout",
     "output_type": "stream",
     "text": [
      "+------+----------+\n",
      "|deptno|avg_salary|\n",
      "+------+----------+\n",
      "|    30|   1566.67|\n",
      "|    20|    2175.0|\n",
      "|    10|   2916.67|\n",
      "+------+----------+\n",
      "\n"
     ]
    }
   ],
   "source": [
    "emp_df.groupBy('deptno').agg(round(avg(\"sal\"),2).alias(\"avg_salary\")).show()"
   ]
  },
  {
   "cell_type": "markdown",
   "id": "e72c583a-f0a1-4dce-ab4e-071c47668d63",
   "metadata": {},
   "source": [
    "# Finding the Min/Max Value in a Column."
   ]
  },
  {
   "cell_type": "code",
   "execution_count": 8,
   "id": "1bded753-e1d9-4c23-aa83-096ad1ac640d",
   "metadata": {},
   "outputs": [
    {
     "name": "stdout",
     "output_type": "stream",
     "text": [
      "+-------+-------+\n",
      "|min_sal|max_sal|\n",
      "+-------+-------+\n",
      "|    800|   5000|\n",
      "+-------+-------+\n",
      "\n"
     ]
    }
   ],
   "source": [
    "spark.sql('''select min(sal) as min_sal, max(sal) as max_sal from emp''').show()"
   ]
  },
  {
   "cell_type": "code",
   "execution_count": 9,
   "id": "337a1588-71a6-41c2-aaff-7d1962faa000",
   "metadata": {},
   "outputs": [
    {
     "name": "stdout",
     "output_type": "stream",
     "text": [
      "+------+-------+-------+\n",
      "|deptno|min_sal|max_sal|\n",
      "+------+-------+-------+\n",
      "|    30|    950|   2850|\n",
      "|    20|    800|   3000|\n",
      "|    10|   1300|   5000|\n",
      "+------+-------+-------+\n",
      "\n"
     ]
    }
   ],
   "source": [
    "spark.sql('''select deptno, min(sal) as min_sal, max(sal) as max_sal from emp group by deptno''').show()"
   ]
  },
  {
   "cell_type": "markdown",
   "id": "12756e2d-a77a-4b30-a263-a609cc2a649a",
   "metadata": {},
   "source": [
    "# Summing the Values in a Column"
   ]
  },
  {
   "cell_type": "code",
   "execution_count": 10,
   "id": "d1f5c33d-1dff-49c8-b633-3fd5d7d3a750",
   "metadata": {},
   "outputs": [
    {
     "name": "stdout",
     "output_type": "stream",
     "text": [
      "+--------+\n",
      "|sum(sal)|\n",
      "+--------+\n",
      "|   29025|\n",
      "+--------+\n",
      "\n"
     ]
    }
   ],
   "source": [
    "spark.sql(\"select sum(sal) from emp\").show()"
   ]
  },
  {
   "cell_type": "code",
   "execution_count": 11,
   "id": "5d8483a3-af5e-4511-9579-0264c8ebc283",
   "metadata": {},
   "outputs": [
    {
     "name": "stdout",
     "output_type": "stream",
     "text": [
      "+-------+\n",
      "|sum_sal|\n",
      "+-------+\n",
      "|  29025|\n",
      "+-------+\n",
      "\n"
     ]
    }
   ],
   "source": [
    "emp_df.agg(sum('sal').alias(\"sum_sal\")).show()"
   ]
  },
  {
   "cell_type": "code",
   "execution_count": 12,
   "id": "452922bf-c219-4a54-a6d3-af63368fb3de",
   "metadata": {},
   "outputs": [
    {
     "name": "stdout",
     "output_type": "stream",
     "text": [
      "+------+-------+\n",
      "|deptno|sum_sal|\n",
      "+------+-------+\n",
      "|    30|   9400|\n",
      "|    20|  10875|\n",
      "|    10|   8750|\n",
      "+------+-------+\n",
      "\n"
     ]
    }
   ],
   "source": [
    "spark.sql(\"select deptno, sum(sal) as sum_sal from emp group by deptno\").show()"
   ]
  },
  {
   "cell_type": "markdown",
   "id": "93cf078a-1331-4990-8a78-1b2e4c9b18df",
   "metadata": {
    "scrolled": true
   },
   "source": [
    "emp_df1.groupBy(\"deptno\").agg(sum(\"sal\").alias(\"sum_sal\")).show()"
   ]
  },
  {
   "cell_type": "markdown",
   "id": "f14346d6-5116-4f01-bb26-fb91c581f910",
   "metadata": {},
   "source": [
    "# Counting Rows in a Table "
   ]
  },
  {
   "cell_type": "markdown",
   "id": "f4be763f-aa34-42fa-a980-057213c9eece",
   "metadata": {},
   "source": [
    "# Generating a Running Total"
   ]
  },
  {
   "cell_type": "code",
   "execution_count": 13,
   "id": "5879a82c-ee41-4223-81a3-eb5ab70c0c31",
   "metadata": {},
   "outputs": [
    {
     "name": "stderr",
     "output_type": "stream",
     "text": [
      "24/12/04 13:13:37 WARN WindowExec: No Partition Defined for Window operation! Moving all data to a single partition, this can cause serious performance degradation.\n",
      "24/12/04 13:13:37 WARN WindowExec: No Partition Defined for Window operation! Moving all data to a single partition, this can cause serious performance degradation.\n",
      "24/12/04 13:13:37 WARN WindowExec: No Partition Defined for Window operation! Moving all data to a single partition, this can cause serious performance degradation.\n"
     ]
    },
    {
     "name": "stdout",
     "output_type": "stream",
     "text": [
      "+------+----+-------------+\n",
      "| ename| sal|running_total|\n",
      "+------+----+-------------+\n",
      "| SMITH| 800|          800|\n",
      "| JAMES| 950|         1750|\n",
      "| ADAMS|1100|         2850|\n",
      "|  WARD|1250|         4100|\n",
      "|MARTIN|1250|         5350|\n",
      "|MILLER|1300|         6650|\n",
      "|Turner|1500|         8150|\n",
      "| ALLEN|1600|         9750|\n",
      "| CLARK|2450|        12200|\n",
      "| BLAKE|2850|        15050|\n",
      "| JONES|2975|        18025|\n",
      "| SCOTT|3000|        21025|\n",
      "|  FORD|3000|        24025|\n",
      "|  KING|5000|        29025|\n",
      "+------+----+-------------+\n",
      "\n"
     ]
    },
    {
     "name": "stderr",
     "output_type": "stream",
     "text": [
      "24/12/04 13:13:37 WARN WindowExec: No Partition Defined for Window operation! Moving all data to a single partition, this can cause serious performance degradation.\n",
      "24/12/04 13:13:37 WARN WindowExec: No Partition Defined for Window operation! Moving all data to a single partition, this can cause serious performance degradation.\n"
     ]
    }
   ],
   "source": [
    "spark.sql(\"select ename, sal, sum(sal) over(order by sal,empno) as running_total from emp\").show()"
   ]
  },
  {
   "cell_type": "code",
   "execution_count": 9,
   "id": "49c8034b-a375-4ae1-9de5-2dd0bc0f9966",
   "metadata": {},
   "outputs": [
    {
     "name": "stderr",
     "output_type": "stream",
     "text": [
      "24/12/26 16:21:01 WARN WindowExec: No Partition Defined for Window operation! Moving all data to a single partition, this can cause serious performance degradation.\n",
      "24/12/26 16:21:01 WARN WindowExec: No Partition Defined for Window operation! Moving all data to a single partition, this can cause serious performance degradation.\n",
      "24/12/26 16:21:01 WARN WindowExec: No Partition Defined for Window operation! Moving all data to a single partition, this can cause serious performance degradation.\n",
      "24/12/26 16:21:01 WARN WindowExec: No Partition Defined for Window operation! Moving all data to a single partition, this can cause serious performance degradation.\n",
      "24/12/26 16:21:01 WARN WindowExec: No Partition Defined for Window operation! Moving all data to a single partition, this can cause serious performance degradation.\n"
     ]
    },
    {
     "name": "stdout",
     "output_type": "stream",
     "text": [
      "+-----+------+---------+----+-----------+----+----+------+-------------+\n",
      "|empno| ename|      job| mgr|   hiredate| sal|comm|deptno|running_total|\n",
      "+-----+------+---------+----+-----------+----+----+------+-------------+\n",
      "| 7369| SMITH|    CLERK|7902|17-DEC-2005| 800|NULL|    20|          800|\n",
      "| 7900| JAMES|    CLERK|7698|03-DEC-2006| 950|NULL|    30|         1750|\n",
      "| 7876| ADAMS|    CLERK|7788|12-JAN-2008|1100|NULL|    20|         2850|\n",
      "| 7521|  WARD| SALESMAN|7698|22-FEB-2006|1250| 500|    30|         5350|\n",
      "| 7654|MARTIN| SALESMAN|7698|28-SEP-2006|1250|1400|    30|         5350|\n",
      "| 7934|MILLER|    CLERK|7782|23-JAN-2007|1300|NULL|    10|         6650|\n",
      "| 7844|Turner| SALESMAN|7698|08-SEP-2006|1500|   0|    30|         8150|\n",
      "| 7499| ALLEN| SALESMAN|7698|20-FEB-2006|1600| 300|    30|         9750|\n",
      "| 7782| CLARK|  MANAGER|7839|09-JUN-2006|2450|NULL|    10|        12200|\n",
      "| 7698| BLAKE|  MANAGER|7839|01-MAY-2006|2850|NULL|    30|        15050|\n",
      "| 7566| JONES|  MANAGER|7839|02-APR-2006|2975|NULL|    20|        18025|\n",
      "| 7788| SCOTT|  ANALYST|7566|09-DEC-2007|3000|NULL|    20|        24025|\n",
      "| 7902|  FORD|  ANALYST|7566|03-DEC-2006|3000|NULL|    20|        24025|\n",
      "| 7839|  KING|PRESIDENT|NULL|17-NOV-2006|5000|NULL|    10|        29025|\n",
      "+-----+------+---------+----+-----------+----+----+------+-------------+\n",
      "\n"
     ]
    }
   ],
   "source": [
    "from pyspark.sql.window import Window \n",
    "windowspec = Window.orderBy(\"sal\", \"deptno\") \n",
    "emp_df.withColumn(\"running_total\",sum(\"sal\").over(windowspec)).show()"
   ]
  },
  {
   "cell_type": "markdown",
   "id": "39baf0ed-bad8-485b-b24c-0be69d797323",
   "metadata": {},
   "source": [
    "# Smoothing A Series of Values "
   ]
  },
  {
   "cell_type": "code",
   "execution_count": 66,
   "id": "8ee7f9c1-504c-4e8f-954f-fcbe380eb38e",
   "metadata": {},
   "outputs": [
    {
     "name": "stdout",
     "output_type": "stream",
     "text": [
      "+----------+-----+\n",
      "|     Date1|sales|\n",
      "+----------+-----+\n",
      "|2020-01-01|  647|\n",
      "|2020-01-02|  561|\n",
      "|2020-01-03|  741|\n",
      "|2020-01-04|  978|\n",
      "|2020-01-05| 1062|\n",
      "|2020-01-06| 1072|\n",
      "|2020-01-07|  805|\n",
      "|2020-01-08|  662|\n",
      "|2020-01-09| 1023|\n",
      "|2020-01-10|  970|\n",
      "+----------+-----+\n",
      "\n"
     ]
    }
   ],
   "source": [
    "data3 = [(\"2020-01-01\", 647),\n",
    "         (\"2020-01-02\", 561),\n",
    "         (\"2020-01-03\", 741),\n",
    "         (\"2020-01-04\", 978),\n",
    "         (\"2020-01-05\", 1062),\n",
    "         (\"2020-01-06\", 1072),\n",
    "         (\"2020-01-07\", 805), \n",
    "         (\"2020-01-08\", 662),\n",
    "         (\"2020-01-09\", 1023), \n",
    "         (\"2020-01-10\", 970) ]\n",
    "schema3 = [\"Date1\", \"sales\"] \n",
    "spark.createDataFrame(data=data3, schema=schema3).show() "
   ]
  },
  {
   "cell_type": "code",
   "execution_count": null,
   "id": "2f67eaa3-439c-4b7d-ad31-b6e2e67e0e1a",
   "metadata": {},
   "outputs": [],
   "source": []
  },
  {
   "cell_type": "markdown",
   "id": "c27a2473-f579-4ccd-b413-fe520fdb683e",
   "metadata": {},
   "source": [
    "# Calculating A Mode "
   ]
  },
  {
   "cell_type": "code",
   "execution_count": 15,
   "id": "4f24ef03-2e34-4192-9898-5b215a32877d",
   "metadata": {},
   "outputs": [
    {
     "name": "stderr",
     "output_type": "stream",
     "text": [
      "24/12/04 13:13:38 WARN WindowExec: No Partition Defined for Window operation! Moving all data to a single partition, this can cause serious performance degradation.\n",
      "24/12/04 13:13:38 WARN WindowExec: No Partition Defined for Window operation! Moving all data to a single partition, this can cause serious performance degradation.\n",
      "24/12/04 13:13:38 WARN WindowExec: No Partition Defined for Window operation! Moving all data to a single partition, this can cause serious performance degradation.\n",
      "24/12/04 13:13:38 WARN WindowExec: No Partition Defined for Window operation! Moving all data to a single partition, this can cause serious performance degradation.\n",
      "24/12/04 13:13:38 WARN WindowExec: No Partition Defined for Window operation! Moving all data to a single partition, this can cause serious performance degradation.\n",
      "24/12/04 13:13:38 WARN WindowExec: No Partition Defined for Window operation! Moving all data to a single partition, this can cause serious performance degradation.\n",
      "24/12/04 13:13:38 WARN WindowExec: No Partition Defined for Window operation! Moving all data to a single partition, this can cause serious performance degradation.\n"
     ]
    },
    {
     "name": "stdout",
     "output_type": "stream",
     "text": [
      "+----+\n",
      "| sal|\n",
      "+----+\n",
      "|3000|\n",
      "+----+\n",
      "\n"
     ]
    },
    {
     "name": "stderr",
     "output_type": "stream",
     "text": [
      "24/12/04 13:13:38 WARN WindowExec: No Partition Defined for Window operation! Moving all data to a single partition, this can cause serious performance degradation.\n",
      "24/12/04 13:13:38 WARN WindowExec: No Partition Defined for Window operation! Moving all data to a single partition, this can cause serious performance degradation.\n"
     ]
    }
   ],
   "source": [
    "spark.sql ('''\n",
    "             select sal from (\n",
    "             select sal,dense_rank() over(order by cnt desc) as rnk from\n",
    "             (select sal, count(*) AS cnt\n",
    "               from emp \n",
    "               where deptno = 20\n",
    "               group by sal \n",
    "               order by sal desc )x\n",
    "               )\n",
    "               where rnk = 1\n",
    "               ''').show()"
   ]
  },
  {
   "cell_type": "code",
   "execution_count": 11,
   "id": "e9179ad8-8ba0-40e0-a3ba-5848ea37eb36",
   "metadata": {},
   "outputs": [
    {
     "name": "stdout",
     "output_type": "stream",
     "text": [
      "+----+-----+\n",
      "| sal|count|\n",
      "+----+-----+\n",
      "|3000|    2|\n",
      "| 800|    1|\n",
      "|2975|    1|\n",
      "|1100|    1|\n",
      "+----+-----+\n",
      "\n"
     ]
    },
    {
     "name": "stderr",
     "output_type": "stream",
     "text": [
      "24/12/26 16:21:57 WARN WindowExec: No Partition Defined for Window operation! Moving all data to a single partition, this can cause serious performance degradation.\n",
      "24/12/26 16:21:57 WARN WindowExec: No Partition Defined for Window operation! Moving all data to a single partition, this can cause serious performance degradation.\n",
      "24/12/26 16:21:57 WARN WindowExec: No Partition Defined for Window operation! Moving all data to a single partition, this can cause serious performance degradation.\n",
      "24/12/26 16:21:58 WARN WindowExec: No Partition Defined for Window operation! Moving all data to a single partition, this can cause serious performance degradation.\n",
      "24/12/26 16:21:58 WARN WindowExec: No Partition Defined for Window operation! Moving all data to a single partition, this can cause serious performance degradation.\n",
      "24/12/26 16:21:58 WARN WindowExec: No Partition Defined for Window operation! Moving all data to a single partition, this can cause serious performance degradation.\n",
      "24/12/26 16:21:58 WARN WindowExec: No Partition Defined for Window operation! Moving all data to a single partition, this can cause serious performance degradation.\n",
      "24/12/26 16:21:58 WARN WindowExec: No Partition Defined for Window operation! Moving all data to a single partition, this can cause serious performance degradation.\n"
     ]
    },
    {
     "name": "stdout",
     "output_type": "stream",
     "text": [
      "+----+\n",
      "| sal|\n",
      "+----+\n",
      "|3000|\n",
      "+----+\n",
      "\n"
     ]
    }
   ],
   "source": [
    "df = emp_df.select(\"sal\").orderBy('sal',ascending=False).where(emp_df.deptno==20)\n",
    "df=df.groupBy('sal').count().orderBy(\"count\",ascending=False)\n",
    "df.show()\n",
    "\n",
    "windowspec = Window.orderBy(\"count\") # descending Order\n",
    "df=df.withColumn(\"row_number\",row_number().over(windowspec))#.orderBy(\"dense_rank\",ascending=False).show()\n",
    "df.select(\"sal\").filter(df.row_number==4).show()"
   ]
  },
  {
   "cell_type": "code",
   "execution_count": 12,
   "id": "00aa4f7a-13e3-4d40-90d8-1c6940ebdae9",
   "metadata": {},
   "outputs": [
    {
     "data": {
      "text/plain": [
       "Row(sal=3000, count=2)"
      ]
     },
     "execution_count": 12,
     "metadata": {},
     "output_type": "execute_result"
    }
   ],
   "source": [
    "df=emp_df.select(\"sal\").where(emp_df.deptno==20).groupBy('sal').count().orderBy(\"count\",ascending=False)\n",
    "df.first()\n"
   ]
  },
  {
   "cell_type": "code",
   "execution_count": 18,
   "id": "e113f051-580f-4fb9-83bf-ebb64ed2b294",
   "metadata": {},
   "outputs": [],
   "source": [
    "# Calculating a median \n",
    "\n"
   ]
  },
  {
   "cell_type": "markdown",
   "id": "2302a4e9-eef4-4058-947e-9dc6c9de49c8",
   "metadata": {},
   "source": [
    "# Determining the percentage of a Total"
   ]
  },
  {
   "cell_type": "code",
   "execution_count": 20,
   "id": "4c96fd8d-64b9-483f-a7f6-d8813dee322e",
   "metadata": {},
   "outputs": [
    {
     "name": "stdout",
     "output_type": "stream",
     "text": [
      "+------+-------+\n",
      "|deptno|sum_sal|\n",
      "+------+-------+\n",
      "|    30|   9400|\n",
      "|    20|  10875|\n",
      "|    10|   8750|\n",
      "+------+-------+\n",
      "\n",
      "a_sum = 29025\n",
      "+------+-------+----------------+\n",
      "|deptno|sum_sal|             pct|\n",
      "+------+-------+----------------+\n",
      "|    30|   9400|           32.39|\n",
      "|    20|  10875|           37.47|\n",
      "|    10|   8750|30.1464254952627|\n",
      "+------+-------+----------------+\n",
      "\n"
     ]
    }
   ],
   "source": [
    "df = emp_df1.groupBy('deptno').agg(sum('sal').alias('sum_sal'))\n",
    "df.show() \n",
    "a_sum = df.select(sum(\"sum_sal\")).collect()[0][0]\n",
    "print(f\"a_sum = {a_sum}\")\n",
    "df.withColumn(\"pct\", when (df.deptno==30, round((df.sum_sal/a_sum*100),2))\n",
    "                     .when (df.deptno==20, round((df.sum_sal/a_sum*100),2))\n",
    "                     .otherwise (df.sum_sal/a_sum*100)).show() #/sum(df.sum_sal)*100)).show()"
   ]
  },
  {
   "cell_type": "markdown",
   "id": "42bcf095-839d-4e5b-b3f3-91ee724284d3",
   "metadata": {},
   "source": [
    "# Computing Averages Without High and Low Values"
   ]
  },
  {
   "cell_type": "code",
   "execution_count": 25,
   "id": "ccfa75b2-3892-4f96-b80e-c4bba59aae78",
   "metadata": {},
   "outputs": [
    {
     "name": "stdout",
     "output_type": "stream",
     "text": [
      "+-------+\n",
      "|avg_sal|\n",
      "+-------+\n",
      "|1935.42|\n",
      "+-------+\n",
      "\n"
     ]
    }
   ],
   "source": [
    "spark.sql('''select (round(avg(sal),2)) as avg_sal from emp\n",
    "          where sal not in (\n",
    "                   (select min(sal) from emp),\n",
    "                   (select max(sal) from emp)\n",
    "          )\n",
    "          ''').show()"
   ]
  },
  {
   "cell_type": "code",
   "execution_count": 64,
   "id": "c68a7c6d-c295-4dd6-99ff-f486bdca8b74",
   "metadata": {},
   "outputs": [
    {
     "name": "stdout",
     "output_type": "stream",
     "text": [
      "+----------+\n",
      "|avg_salary|\n",
      "+----------+\n",
      "|   1935.42|\n",
      "+----------+\n",
      "\n"
     ]
    }
   ],
   "source": [
    "minimum = emp_df1.agg({'sal':'min'}).collect()[0][0]\n",
    "maximum = emp_df1.agg({'sal':'max'}).collect()[0][0]\n",
    "lst = [minimum, maximum]\n",
    "emp_df1.select(\"sal\").where(~emp_df1.sal.isin(lst)).agg(round(avg(emp_df1.sal),2).alias('avg_salary')).show()"
   ]
  },
  {
   "cell_type": "code",
   "execution_count": null,
   "id": "aac1946e-c999-4d86-9259-08dfe400ac20",
   "metadata": {},
   "outputs": [],
   "source": []
  }
 ],
 "metadata": {
  "kernelspec": {
   "display_name": "Python 3 (ipykernel)",
   "language": "python",
   "name": "python3"
  },
  "language_info": {
   "codemirror_mode": {
    "name": "ipython",
    "version": 3
   },
   "file_extension": ".py",
   "mimetype": "text/x-python",
   "name": "python",
   "nbconvert_exporter": "python",
   "pygments_lexer": "ipython3",
   "version": "3.11.8"
  }
 },
 "nbformat": 4,
 "nbformat_minor": 5
}
