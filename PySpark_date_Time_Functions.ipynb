{
 "cells": [
  {
   "cell_type": "markdown",
   "id": "d9821e77-008b-4d2d-a10b-4e5c59286271",
   "metadata": {},
   "source": [
    "# Introduction "
   ]
  },
  {
   "cell_type": "raw",
   "id": "dd12ed86-de3e-4c9d-b66c-fa43a8a3b3a6",
   "metadata": {},
   "source": [
    "In PySpark, there are various date time functions that can be used to manipulate and extract information from date and time values. \n",
    "\n",
    "Here are some commonly used date time functions in PySpark:"
   ]
  },
  {
   "cell_type": "code",
   "execution_count": 1,
   "id": "02e7a202-7577-4874-87a3-6f9effac832e",
   "metadata": {},
   "outputs": [
    {
     "name": "stderr",
     "output_type": "stream",
     "text": [
      "24/12/27 11:57:57 WARN Utils: Your hostname, user-HP-Pavilion-x360-Convertible-14-dh0xxx resolves to a loopback address: 127.0.1.1; using 192.168.122.1 instead (on interface virbr0)\n",
      "24/12/27 11:57:57 WARN Utils: Set SPARK_LOCAL_IP if you need to bind to another address\n",
      "Setting default log level to \"WARN\".\n",
      "To adjust logging level use sc.setLogLevel(newLevel). For SparkR, use setLogLevel(newLevel).\n",
      "24/12/27 11:57:57 WARN NativeCodeLoader: Unable to load native-hadoop library for your platform... using builtin-java classes where applicable\n"
     ]
    }
   ],
   "source": [
    "from pyspark.sql import SparkSession\n",
    "spark = SparkSession.builder.getOrCreate()"
   ]
  },
  {
   "cell_type": "code",
   "execution_count": 2,
   "id": "e10b24b1-3645-4f0f-9e99-6455cebdf6f4",
   "metadata": {},
   "outputs": [
    {
     "name": "stderr",
     "output_type": "stream",
     "text": [
      "                                                                                \r"
     ]
    },
    {
     "name": "stdout",
     "output_type": "stream",
     "text": [
      "+----------+-----------------------+\n",
      "|date_col  |timestamp_col          |\n",
      "+----------+-----------------------+\n",
      "|2022-03-15|2022-03-16 12:34:56.789|\n",
      "|2022-03-01|2022-03-16 01:23:45.678|\n",
      "+----------+-----------------------+\n",
      "\n"
     ]
    }
   ],
   "source": [
    "from pyspark.sql.functions import *\n",
    "\n",
    "# create sample Dataframe\n",
    "data = [(\"2022-03-15\", \"2022-03-16 12:34:56.789\"), \n",
    "        (\"2022-03-01\", \"2022-03-16 01:23:45.678\")] \n",
    "df = spark.createDataFrame(data, [\"date_col\",\"timestamp_col\"]) \n",
    "df.show(truncate=False)"
   ]
  },
  {
   "cell_type": "raw",
   "id": "af81e64e-2a78-44c6-8d40-902093b2a04d",
   "metadata": {},
   "source": [
    "1. CURRENT_DATE \n",
    "current_date(): This function returns the current date in the format \"yyyy-MM-dd\"."
   ]
  },
  {
   "cell_type": "code",
   "execution_count": 3,
   "id": "0b4cd1ee-d85a-412c-8315-f9a91e28f089",
   "metadata": {},
   "outputs": [
    {
     "name": "stdout",
     "output_type": "stream",
     "text": [
      "+------------+\n",
      "|current_date|\n",
      "+------------+\n",
      "|  2024-12-27|\n",
      "|  2024-12-27|\n",
      "+------------+\n",
      "\n"
     ]
    }
   ],
   "source": [
    "df.select(current_date().alias(\"current_date\")).show()"
   ]
  },
  {
   "cell_type": "raw",
   "id": "51f290e5-b27b-405d-9a4f-b40734a6748c",
   "metadata": {},
   "source": [
    "2. CURRENT_TIMESTAMP\n",
    "This function returns the current timestamp in the format \"yyyy-MM-dd:HH:mm:ss.SSS\"\n"
   ]
  },
  {
   "cell_type": "code",
   "execution_count": 4,
   "id": "0ce6d3d2-af07-41fb-a5b8-3db17469b609",
   "metadata": {},
   "outputs": [
    {
     "name": "stdout",
     "output_type": "stream",
     "text": [
      "+--------------------------+\n",
      "|current_timestamp()       |\n",
      "+--------------------------+\n",
      "|2024-12-27 11:58:38.699413|\n",
      "|2024-12-27 11:58:38.699413|\n",
      "+--------------------------+\n",
      "\n"
     ]
    }
   ],
   "source": [
    "df.select(current_timestamp()).show(truncate=False)"
   ]
  },
  {
   "cell_type": "markdown",
   "id": "4568f6f3-1c5e-49e5-803e-278ac03cda0f",
   "metadata": {},
   "source": [
    "# 3. DATE_ADD"
   ]
  },
  {
   "cell_type": "raw",
   "id": "fdb9b8f2-af38-428e-9d59-278d4efc1a2c",
   "metadata": {},
   "source": [
    "date_add(start_date, num_days) : This function returms a new date by adding specified number of days to a given start date. "
   ]
  },
  {
   "cell_type": "markdown",
   "id": "854b77c4-5f20-4155-ae5a-95142fe32ea1",
   "metadata": {},
   "source": [
    "# 4. DATE_SUB "
   ]
  },
  {
   "cell_type": "raw",
   "id": "7247ad89-ac02-407a-8367-669c190e08d4",
   "metadata": {},
   "source": [
    "date_sub(start_date, num_days) : This function returns a new date by subtracting a specified number of days from a given start date."
   ]
  },
  {
   "cell_type": "code",
   "execution_count": 5,
   "id": "0b614831-54a2-4d79-abd3-e55dad3d48af",
   "metadata": {},
   "outputs": [
    {
     "name": "stdout",
     "output_type": "stream",
     "text": [
      "+---------------------+----------------------+\n",
      "|date_add(date_col, 5)|date_sub(date_col, 10)|\n",
      "+---------------------+----------------------+\n",
      "|           2022-03-20|            2022-03-05|\n",
      "|           2022-03-06|            2022-02-19|\n",
      "+---------------------+----------------------+\n",
      "\n"
     ]
    }
   ],
   "source": [
    "df.select(date_add(\"date_col\", 5), date_sub(\"date_col\", 10)).show()"
   ]
  },
  {
   "cell_type": "markdown",
   "id": "6b315fca-e5f8-4e24-8d4e-fc760668f2da",
   "metadata": {},
   "source": [
    "# 5. DATEDIFF "
   ]
  },
  {
   "cell_type": "raw",
   "id": "5d5b8c97-7bd7-4523-8e1c-ecbfbbacc54d",
   "metadata": {},
   "source": [
    "datediff(end_date, start_date): This function returns the number of days between two dates."
   ]
  },
  {
   "cell_type": "code",
   "execution_count": 7,
   "id": "3709a28b-4330-46e9-b00e-fc4835d2e4d8",
   "metadata": {},
   "outputs": [
    {
     "name": "stdout",
     "output_type": "stream",
     "text": [
      "+---------+\n",
      "|date_diff|\n",
      "+---------+\n",
      "|        1|\n",
      "|       15|\n",
      "+---------+\n",
      "\n"
     ]
    }
   ],
   "source": [
    "df.select(datediff(\"timestamp_col\", \"date_col\").alias(\"date_diff\")).show()"
   ]
  },
  {
   "cell_type": "markdown",
   "id": "a9ff5ec3-1fc3-4c29-88e0-b6f24381567d",
   "metadata": {},
   "source": [
    "# 6. YEAR "
   ]
  },
  {
   "cell_type": "raw",
   "id": "c5c9f762-c022-4728-b36c-69387fe98918",
   "metadata": {},
   "source": [
    "year(date): This function returns the year components of a date."
   ]
  },
  {
   "cell_type": "markdown",
   "id": "6b53c504-f755-4309-affe-47d19feff67a",
   "metadata": {},
   "source": [
    "# 7. DAYOFYEAR "
   ]
  },
  {
   "cell_type": "raw",
   "id": "66772632-2623-4e79-85b0-59f1f3b62906",
   "metadata": {},
   "source": [
    "dayofyear(date): Returns the day of the year of the input date."
   ]
  },
  {
   "cell_type": "markdown",
   "id": "030f7b65-86f7-4174-a05e-5b40f5189ffa",
   "metadata": {},
   "source": [
    "# 8. month(date):"
   ]
  },
  {
   "cell_type": "raw",
   "id": "93e8d649-33df-4479-a158-a33a4644db4e",
   "metadata": {},
   "source": [
    "month(date): This function returns the month component of a date."
   ]
  },
  {
   "cell_type": "markdown",
   "id": "55818614-0bcc-4824-a0fa-d77a21f8f8fc",
   "metadata": {},
   "source": [
    "# 9. DAYOFMONTH"
   ]
  },
  {
   "cell_type": "raw",
   "id": "cc2402bb-89c0-402a-9928-706819844b0a",
   "metadata": {},
   "source": [
    "dayofmonth(date): This function returns the day of the month component of a date."
   ]
  },
  {
   "cell_type": "code",
   "execution_count": 9,
   "id": "d9898e91-b2b4-43da-ada3-1c2f6ebc2e3e",
   "metadata": {},
   "outputs": [
    {
     "name": "stdout",
     "output_type": "stream",
     "text": [
      "+--------------+-------------------+---------------+--------------------+\n",
      "|year(date_col)|dayofyear(date_col)|month(date_col)|dayofmonth(date_col)|\n",
      "+--------------+-------------------+---------------+--------------------+\n",
      "|          2022|                 74|              3|                  15|\n",
      "|          2022|                 60|              3|                   1|\n",
      "+--------------+-------------------+---------------+--------------------+\n",
      "\n"
     ]
    }
   ],
   "source": [
    "df.select(year(\"date_col\"),dayofyear(\"date_col\"), month(\"date_col\"), dayofmonth(\"date_col\")).show()"
   ]
  },
  {
   "cell_type": "markdown",
   "id": "9224ab4b-345b-4178-9378-53ca7d9f6aba",
   "metadata": {},
   "source": [
    "# 10. HOUR"
   ]
  },
  {
   "cell_type": "raw",
   "id": "f8cc7cf8-0599-4bac-9942-7ab67bcbf256",
   "metadata": {},
   "source": [
    "hour(timestamp): This function returns the hour component of a timestamp."
   ]
  },
  {
   "cell_type": "markdown",
   "id": "6844fb85-6118-4671-b722-883ecba5974c",
   "metadata": {},
   "source": [
    "# 11. MINUTE"
   ]
  },
  {
   "cell_type": "raw",
   "id": "c4bb09bb-bb60-4dce-b57d-92c853e54ff8",
   "metadata": {},
   "source": [
    "minute(timestamp): This function retrns the minute component of a timestamp. "
   ]
  },
  {
   "cell_type": "markdown",
   "id": "e5b22d6f-2ee5-4d9f-b3e5-aa13bb2a2017",
   "metadata": {},
   "source": [
    "# 12. SECOND  "
   ]
  },
  {
   "cell_type": "raw",
   "id": "95123b30-3303-4235-b917-1853496385c0",
   "metadata": {},
   "source": [
    "second(timestamp): This function returns the second component of a timestamp. "
   ]
  },
  {
   "cell_type": "code",
   "execution_count": 10,
   "id": "a095a36c-6983-455a-963e-1fd28c933177",
   "metadata": {},
   "outputs": [
    {
     "name": "stdout",
     "output_type": "stream",
     "text": [
      "+-------------------+---------------------+---------------------+\n",
      "|hour(timestamp_col)|minute(timestamp_col)|second(timestamp_col)|\n",
      "+-------------------+---------------------+---------------------+\n",
      "|                 12|                   34|                   56|\n",
      "|                  1|                   23|                   45|\n",
      "+-------------------+---------------------+---------------------+\n",
      "\n"
     ]
    }
   ],
   "source": [
    "df.select(hour(\"timestamp_col\"),minute(\"timestamp_col\"), second(\"timestamp_col\")).show()"
   ]
  },
  {
   "cell_type": "code",
   "execution_count": null,
   "id": "6e613591-65dd-498d-8aaf-c65b8f177d8b",
   "metadata": {},
   "outputs": [],
   "source": []
  }
 ],
 "metadata": {
  "kernelspec": {
   "display_name": "Python 3 (ipykernel)",
   "language": "python",
   "name": "python3"
  },
  "language_info": {
   "codemirror_mode": {
    "name": "ipython",
    "version": 3
   },
   "file_extension": ".py",
   "mimetype": "text/x-python",
   "name": "python",
   "nbconvert_exporter": "python",
   "pygments_lexer": "ipython3",
   "version": "3.11.8"
  }
 },
 "nbformat": 4,
 "nbformat_minor": 5
}
