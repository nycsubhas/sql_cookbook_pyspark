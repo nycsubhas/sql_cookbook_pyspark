{
 "cells": [
  {
   "cell_type": "markdown",
   "id": "b5ad870d-8762-43ce-bf09-246092676363",
   "metadata": {},
   "source": [
    "## An year is a Leap Year"
   ]
  },
  {
   "cell_type": "code",
   "execution_count": 1,
   "id": "cce7a018-e046-4392-b79b-6f97efdc876f",
   "metadata": {},
   "outputs": [
    {
     "name": "stdout",
     "output_type": "stream",
     "text": [
      "False\n"
     ]
    }
   ],
   "source": [
    "import calendar \n",
    "print(calendar.isleap(1900))"
   ]
  },
  {
   "cell_type": "markdown",
   "id": "c710d420-040c-4b74-8e01-0c7dcb136af8",
   "metadata": {},
   "source": [
    "# Determining the Number of days in a year"
   ]
  },
  {
   "cell_type": "code",
   "execution_count": 2,
   "id": "500bfd24-24f6-477b-89b9-c2a7aca8a4eb",
   "metadata": {},
   "outputs": [
    {
     "name": "stdout",
     "output_type": "stream",
     "text": [
      "The year 1965 consists of 365 days\n"
     ]
    }
   ],
   "source": [
    "year = 1965\n",
    "import calendar \n",
    "if calendar.isleap(year):\n",
    "    print(f\"The year {year} consists of 366 days\") \n",
    "else: \n",
    "    print(f\"The year {year} consists of 365 days\")"
   ]
  },
  {
   "cell_type": "markdown",
   "id": "2e7f105d-e3a6-4e8e-b664-047023cd7f99",
   "metadata": {},
   "source": [
    "# Extracting Units of Time from a Date"
   ]
  },
  {
   "cell_type": "raw",
   "id": "635eca57-76c2-4d06-ab63-0ebe13417e31",
   "metadata": {},
   "source": [
    "Break the current date down into six parts: day, month, year, second, minute, and hour. "
   ]
  },
  {
   "cell_type": "code",
   "execution_count": 1,
   "id": "cf336e44-6f98-492b-b6cf-f07554f7a629",
   "metadata": {},
   "outputs": [
    {
     "name": "stderr",
     "output_type": "stream",
     "text": [
      "24/12/20 13:35:21 WARN Utils: Your hostname, user-HP-Pavilion-x360-Convertible-14-dh0xxx resolves to a loopback address: 127.0.1.1; using 192.168.122.1 instead (on interface virbr0)\n",
      "24/12/20 13:35:21 WARN Utils: Set SPARK_LOCAL_IP if you need to bind to another address\n",
      "Setting default log level to \"WARN\".\n",
      "To adjust logging level use sc.setLogLevel(newLevel). For SparkR, use setLogLevel(newLevel).\n",
      "24/12/20 13:35:22 WARN NativeCodeLoader: Unable to load native-hadoop library for your platform... using builtin-java classes where applicable\n"
     ]
    }
   ],
   "source": [
    "from pyspark.sql import SparkSession\n",
    "spark = SparkSession.builder.getOrCreate()"
   ]
  },
  {
   "cell_type": "code",
   "execution_count": 25,
   "id": "3c908fbf-7c48-46ae-84d5-a823399ba705",
   "metadata": {},
   "outputs": [
    {
     "name": "stdout",
     "output_type": "stream",
     "text": [
      "+----------+-----------------------+\n",
      "|date_col  |timestamp_col          |\n",
      "+----------+-----------------------+\n",
      "|2022-03-15|2022-03-16 12:34:56.789|\n",
      "|2022-03-01|2022-03-16 01:23:45.678|\n",
      "+----------+-----------------------+\n",
      "\n"
     ]
    }
   ],
   "source": [
    "from pyspark.sql.functions import *\n",
    "\n",
    "# create sample Dataframe\n",
    "data = [(\"2022-03-15\", \"2022-03-16 12:34:56.789\"), \n",
    "        (\"2022-03-01\", \"2022-03-16 01:23:45.678\")] \n",
    "df = spark.createDataFrame(data, [\"date_col\",\"timestamp_col\"]) \n",
    "df.show(truncate=False)"
   ]
  },
  {
   "cell_type": "code",
   "execution_count": 5,
   "id": "7cecb0bf-3121-426b-a1a2-8d7d8be41295",
   "metadata": {},
   "outputs": [
    {
     "name": "stdout",
     "output_type": "stream",
     "text": [
      "+-----+------+--------------------+\n",
      "|years|months|dayofmonth(date_col)|\n",
      "+-----+------+--------------------+\n",
      "| 2022|     3|                  15|\n",
      "| 2022|     3|                   1|\n",
      "+-----+------+--------------------+\n",
      "\n"
     ]
    }
   ],
   "source": [
    "df.select(year(\"date_col\").alias(\"years\"),month(\"date_col\").alias(\"months\"),dayofmonth(\"date_col\")).show()"
   ]
  },
  {
   "cell_type": "code",
   "execution_count": 6,
   "id": "cbdc4a7d-ff15-427b-8cc4-8624f8e83e02",
   "metadata": {},
   "outputs": [
    {
     "name": "stdout",
     "output_type": "stream",
     "text": [
      "+-------------------+---------------------+---------------------+\n",
      "|hour(timestamp_col)|minute(timestamp_col)|second(timestamp_col)|\n",
      "+-------------------+---------------------+---------------------+\n",
      "|                 12|                   34|                   56|\n",
      "|                  1|                   23|                   45|\n",
      "+-------------------+---------------------+---------------------+\n",
      "\n"
     ]
    }
   ],
   "source": [
    "df.select(hour(\"timestamp_col\"),minute(\"timestamp_col\"),second(\"timestamp_col\")).show()"
   ]
  },
  {
   "cell_type": "markdown",
   "id": "b2e69028-ecdd-4765-a705-05b8afa2d66d",
   "metadata": {},
   "source": [
    "# Determining the First and Last Days of a month"
   ]
  },
  {
   "cell_type": "code",
   "execution_count": 7,
   "id": "4e19edf5-0948-468a-8806-98028a04dafa",
   "metadata": {},
   "outputs": [
    {
     "name": "stdout",
     "output_type": "stream",
     "text": [
      "+----------+--------------------+----------+\n",
      "|  date_col|       timestamp_col| first day|\n",
      "+----------+--------------------+----------+\n",
      "|2022-03-15|2022-03-16 12:34:...|2022-03-01|\n",
      "|2022-03-01|2022-03-16 01:23:...|2022-03-01|\n",
      "+----------+--------------------+----------+\n",
      "\n"
     ]
    }
   ],
   "source": [
    "df.withColumn(\"first day\", trunc(\"date_col\",\"month\")).show()"
   ]
  },
  {
   "cell_type": "markdown",
   "id": "320c26e7-0274-4615-ae20-97b03fcf3600",
   "metadata": {},
   "source": [
    "# Last Day of a month"
   ]
  },
  {
   "cell_type": "code",
   "execution_count": null,
   "id": "b44296a8-8d1e-4b44-9bcb-aa868e81ab35",
   "metadata": {},
   "outputs": [],
   "source": [
    "df.select(last_day(df.timestamp_col).alias(\"last_day\")).show()"
   ]
  },
  {
   "cell_type": "markdown",
   "id": "aeadd23b-c373-4be4-aee4-da5a77a429ee",
   "metadata": {},
   "source": [
    "# Determining All dates for a Particular Weekday Throughout a Year. "
   ]
  },
  {
   "cell_type": "code",
   "execution_count": null,
   "id": "46db5d2d-a25e-492f-b0ab-c59385ad40b5",
   "metadata": {},
   "outputs": [],
   "source": [
    "df.withColumn(\"day_of_week\",dayofweek('date_col')).show()"
   ]
  },
  {
   "cell_type": "code",
   "execution_count": null,
   "id": "52295946-e6f5-4918-b528-f77c77637ea6",
   "metadata": {},
   "outputs": [],
   "source": [
    "df.withColumn(\"Quarter\", quarter('date_col')).show()"
   ]
  },
  {
   "cell_type": "code",
   "execution_count": null,
   "id": "60433464-86b4-4986-bca3-110fdc2c10b1",
   "metadata": {},
   "outputs": [],
   "source": [
    "df.withColumn('last_day',expr('''to_date(date_trunc(\"quarter\", to_date(input_date) + interval 3 months) + interval 1 day '''))"
   ]
  },
  {
   "cell_type": "code",
   "execution_count": 32,
   "id": "cf8f4f15-d817-45a3-9559-737b5517d294",
   "metadata": {},
   "outputs": [
    {
     "name": "stdout",
     "output_type": "stream",
     "text": [
      "+----------+--------------------+----------+\n",
      "|  date_col|       timestamp_col| first_day|\n",
      "+----------+--------------------+----------+\n",
      "|2022-03-15|2022-03-16 12:34:...|2022-03-01|\n",
      "|2022-03-01|2022-03-16 01:23:...|2022-03-01|\n",
      "+----------+--------------------+----------+\n",
      "\n"
     ]
    }
   ],
   "source": [
    "df2=df.withColumn(\"first_day\", trunc(\"date_col\",\"month\"))\n",
    "df2.show()"
   ]
  },
  {
   "cell_type": "code",
   "execution_count": 33,
   "id": "8779e600-880c-49d7-9318-a9a872b95a5e",
   "metadata": {},
   "outputs": [
    {
     "name": "stdout",
     "output_type": "stream",
     "text": [
      "+----------+----------+\n",
      "|  date_col|  last_day|\n",
      "+----------+----------+\n",
      "|2022-03-15|2022-06-01|\n",
      "|2022-03-01|2022-06-01|\n",
      "+----------+----------+\n",
      "\n"
     ]
    }
   ],
   "source": [
    "df2.select(\"date_col\", add_months(df2.first_day,3).alias(\"last_day\")).show()"
   ]
  },
  {
   "cell_type": "markdown",
   "id": "7a35a7be-4cf7-4561-9a86-772cbbd0f3a4",
   "metadata": {},
   "source": [
    "## Listing Quarter Start and End Dates for the Year"
   ]
  },
  {
   "cell_type": "markdown",
   "id": "dca45eb6-c636-4bb2-988b-e31f9f6d68e4",
   "metadata": {},
   "source": [
    "### start with the current date"
   ]
  },
  {
   "cell_type": "code",
   "execution_count": 2,
   "id": "80066c9a-dfe8-41c7-abb2-408f3de7bebc",
   "metadata": {},
   "outputs": [],
   "source": [
    "from pyspark.sql import SparkSession\n",
    "spark = SparkSession.builder.getOrCreate()"
   ]
  },
  {
   "cell_type": "code",
   "execution_count": 3,
   "id": "cfea685f-73d7-4bbc-8d01-a5f889bd203e",
   "metadata": {},
   "outputs": [
    {
     "name": "stderr",
     "output_type": "stream",
     "text": [
      "                                                                                \r"
     ]
    },
    {
     "name": "stdout",
     "output_type": "stream",
     "text": [
      "+---+\n",
      "| id|\n",
      "+---+\n",
      "|  1|\n",
      "+---+\n",
      "\n",
      "+----+\n",
      "|year|\n",
      "+----+\n",
      "|2024|\n",
      "+----+\n",
      "\n",
      "year 2024\n"
     ]
    }
   ],
   "source": [
    "from pyspark.sql.functions import current_date, trunc, year, lit, make_date,add_months\n",
    "data = [[1]] \n",
    "df=spark.createDataFrame(data=data).toDF(\"id\")\n",
    "df.show()\n",
    "df2=df.withColumn(\"current_date\",current_date())\n",
    "df3=df.select(year(\"current_date\").alias('year'))\n",
    "df3.show()\n",
    "year = df3.collect()[0][0]\n",
    "print(f\"year {year}\")\n"
   ]
  },
  {
   "cell_type": "markdown",
   "id": "4cad606f-c625-4b37-bde9-20a84741fbc1",
   "metadata": {},
   "source": [
    "### Better Code for generating a date in a year"
   ]
  },
  {
   "cell_type": "code",
   "execution_count": 18,
   "id": "169f19e7-fac4-4b9f-8f69-1ed9bf21aa0c",
   "metadata": {},
   "outputs": [
    {
     "name": "stdout",
     "output_type": "stream",
     "text": [
      "+----+-----+---+\n",
      "|year|month|day|\n",
      "+----+-----+---+\n",
      "|2024|    1|  1|\n",
      "+----+-----+---+\n",
      "\n"
     ]
    }
   ],
   "source": [
    "date_data = [(2024, 1, 1)] \n",
    "df4=spark.createDataFrame(data=date_data).toDF(\"year\",\"month\",\"day\")\n",
    "df4.show()\n",
    "df5 = df4.select(make_date(df4.year,df4.month,df4.day).alias('datefield')) #.show()"
   ]
  },
  {
   "cell_type": "raw",
   "id": "0cea8ef4-8f30-4aab-9ed0-0ae4d6b92a61",
   "metadata": {},
   "source": [
    "#### Now got the year. Find the first quarter starting date and end date.\n",
    "df4=df3.withColumn('month',lit('01')).withColumn('day',lit('01')) #.show() "
   ]
  },
  {
   "cell_type": "raw",
   "id": "c421b8fc-d863-43b0-ac93-6654d432c143",
   "metadata": {},
   "source": [
    "df5 = df4.select(make_date(df4.year,df4.month,df4.day).alias('datefield')) #.show()\n",
    "df5.show()"
   ]
  },
  {
   "cell_type": "code",
   "execution_count": 14,
   "id": "5c056b4f-02bf-4c7c-9d40-c521f18dfabc",
   "metadata": {
    "scrolled": true
   },
   "outputs": [
    {
     "name": "stdout",
     "output_type": "stream",
     "text": [
      "+----------+----------+\n",
      "| datefield|  end_date|\n",
      "+----------+----------+\n",
      "|2024-01-01|2024-04-01|\n",
      "+----------+----------+\n",
      "\n"
     ]
    }
   ],
   "source": [
    "df6=df5.withColumn(\"end_date\",add_months(df5.datefield,3))\n",
    "df6.show()"
   ]
  },
  {
   "cell_type": "code",
   "execution_count": 19,
   "id": "5f83db1f-d9f8-45ed-807e-b656c7a5ca84",
   "metadata": {},
   "outputs": [
    {
     "name": "stdout",
     "output_type": "stream",
     "text": [
      "+----------+----------+-------+\n",
      "|start_date|  end_date|quarter|\n",
      "+----------+----------+-------+\n",
      "|2024-01-01|2024-04-01|      1|\n",
      "+----------+----------+-------+\n",
      "\n"
     ]
    }
   ],
   "source": [
    "\n",
    "df7=df6.withColumnRenamed(\"datefield\",\"start_date\").withColumn('quarter',lit(1))\n",
    "df7.show()"
   ]
  },
  {
   "cell_type": "code",
   "execution_count": 23,
   "id": "fb561380-ad4e-4469-b940-8e6dc561b7da",
   "metadata": {},
   "outputs": [
    {
     "name": "stdout",
     "output_type": "stream",
     "text": [
      "+----------+----------+-------+\n",
      "|start_date|  end_date|quarter|\n",
      "+----------+----------+-------+\n",
      "|2024-01-01|2024-03-31|      1|\n",
      "+----------+----------+-------+\n",
      "\n"
     ]
    }
   ],
   "source": [
    "from pyspark.sql.functions import date_sub, date_add\n",
    "df8=df7.withColumn(\"end_date\",date_sub(df7.end_date, 1)) #.show()\n",
    "df8.show()"
   ]
  },
  {
   "cell_type": "raw",
   "id": "cce23fcb-b986-40da-98f5-a99435f1e8a8",
   "metadata": {},
   "source": [
    "df9 = df8.select(\"start_date\",\"end_date\",add_months(df8.start_date,3).alias(\"start_date2\"))\n",
    "df9.withColumn(\"end_date2\",date_sub(add_months(df9.start_date,3),1)).show()"
   ]
  },
  {
   "cell_type": "code",
   "execution_count": 34,
   "id": "8c4063f5-75f7-40d1-be95-9a085da3932e",
   "metadata": {},
   "outputs": [
    {
     "name": "stdout",
     "output_type": "stream",
     "text": [
      "<class 'datetime.date'>\n",
      "2024-06-30\n",
      "+----------+----------+-------+\n",
      "|start_date|  end_date|quarter|\n",
      "+----------+----------+-------+\n",
      "|2024-04-01|2024-06-30|      2|\n",
      "+----------+----------+-------+\n",
      "\n",
      "+----------+----------+-------+\n",
      "|start_date|  end_date|quarter|\n",
      "+----------+----------+-------+\n",
      "|2024-01-01|2024-03-31|      1|\n",
      "|2024-04-01|2024-06-30|      2|\n",
      "+----------+----------+-------+\n",
      "\n"
     ]
    }
   ],
   "source": [
    "start_date_2Q = df8.select(date_add(df8.end_date, 1)).collect()[0][0]\n",
    "print(type(start_date_2Q))\n",
    "end_date_2Q = df8.select(add_months(df8.end_date, 3)).collect()[0][0]\n",
    "print(end_date_2Q)\n",
    "data_Q2 = [(start_date_2Q, end_date_2Q, 2)]\n",
    "col=(\"start_date\", \"end_date\", \"quarter\")\n",
    "df_Q2 = spark.createDataFrame(data=data_Q2, schema=col)\n",
    "df_Q2.show()\n",
    "df8.union(df_Q2).show()"
   ]
  },
  {
   "cell_type": "markdown",
   "id": "f248eb2a-20ee-4250-8ee8-edb7a74b7ade",
   "metadata": {},
   "source": [
    "## Given the current date, find which quarter it belongs to:\n"
   ]
  },
  {
   "cell_type": "code",
   "execution_count": 28,
   "id": "50cbce8f-e168-4493-8b25-04ad4638fec8",
   "metadata": {},
   "outputs": [],
   "source": [
    "from pyspark.sql.functions import current_date\n",
    "data=[[1]];col=['id'] \n",
    "df = spark.createDataFrame(data=data, schema=col) \n",
    "df2=df.withColumn(\"current_date\",current_date()) #.show()"
   ]
  },
  {
   "cell_type": "code",
   "execution_count": 36,
   "id": "3dba65c0-5677-4167-8bf8-6d33b3a6d2eb",
   "metadata": {},
   "outputs": [
    {
     "name": "stdout",
     "output_type": "stream",
     "text": [
      "month  12\n",
      "current date is in 4 quarter\n"
     ]
    }
   ],
   "source": [
    "from pyspark.sql.functions import month\n",
    "month = df.select(month(\"current_date\").alias(\"month\")).collect()[0][0]\n",
    "print(\"month \",month)\n",
    "print(f\"current date is in {month//3} quarter\")"
   ]
  },
  {
   "cell_type": "code",
   "execution_count": null,
   "id": "31120ea0-b209-4b51-a863-88dfa6b28516",
   "metadata": {},
   "outputs": [],
   "source": []
  }
 ],
 "metadata": {
  "kernelspec": {
   "display_name": "Python 3 (ipykernel)",
   "language": "python",
   "name": "python3"
  },
  "language_info": {
   "codemirror_mode": {
    "name": "ipython",
    "version": 3
   },
   "file_extension": ".py",
   "mimetype": "text/x-python",
   "name": "python",
   "nbconvert_exporter": "python",
   "pygments_lexer": "ipython3",
   "version": "3.11.8"
  }
 },
 "nbformat": 4,
 "nbformat_minor": 5
}
